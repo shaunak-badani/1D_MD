{
 "cells": [
  {
   "cell_type": "markdown",
   "metadata": {},
   "source": [
    "## Introduction"
   ]
  },
  {
   "cell_type": "markdown",
   "metadata": {},
   "source": [
    "* This notebook aims to understand the sum_hills algorithms that plumed uses.\n",
    "* It starts out with two files : \n",
    "    * COLVAR.0 : File obtained after a REMD run, and gathering the temperature trajectory at 300 K (I think). Contains 10^5 phi, psi values obtained during the course of the simulation.\n",
    "    * HILLS : The file that is output from a metadynamics run. Valuable information about the Gaussians deposited during the course of the metadynamics simulation"
   ]
  },
  {
   "cell_type": "markdown",
   "metadata": {},
   "source": [
    "## sum_hills --hills"
   ]
  },
  {
   "cell_type": "markdown",
   "metadata": {},
   "source": [
    "* This algorithm makes use of the assumption $F(s) = -V(s)$ when $t \\to \\inf$, that is, for a very long simulation"
   ]
  },
  {
   "cell_type": "code",
   "execution_count": null,
   "metadata": {},
   "outputs": [],
   "source": [
    "!module load plumed/2.6.1"
   ]
  },
  {
   "cell_type": "code",
   "execution_count": 5,
   "metadata": {},
   "outputs": [
    {
     "name": "stdout",
     "output_type": "stream",
     "text": [
      "PLUMED: PLUMED is starting\n",
      "PLUMED: Version: 2.6.1 (git: Unknown) compiled on Sep  9 2020 at 14:32:15\n",
      "PLUMED: Please cite these papers when using PLUMED [1][2]\n",
      "PLUMED: For further information see the PLUMED web page at http://www.plumed.org\n",
      "PLUMED: Root: /usr/local/apps/plumed-2.6.1/lib/plumed\n",
      "PLUMED: For installed feature, see /usr/local/apps/plumed-2.6.1/lib/plumed/src/config/config.txt\n",
      "PLUMED: Molecular dynamics engine: \n",
      "PLUMED: Precision of reals: 8\n",
      "PLUMED: Running over 1 node\n",
      "PLUMED: Number of threads: 1\n",
      "PLUMED: Cache line size: 512\n",
      "PLUMED: Number of atoms: 1\n",
      "PLUMED: File suffix: \n",
      "PLUMED: Timestep: 0.000000\n",
      "PLUMED: KbT has not been set by the MD engine\n",
      "PLUMED: It should be set by hand where needed\n",
      "PLUMED: Relevant bibliography:\n",
      "PLUMED:   [1] The PLUMED consortium, Nat. Methods 16, 670 (2019)\n",
      "PLUMED:   [2] Tribello, Bonomi, Branduardi, Camilloni, and Bussi, Comput. Phys. Commun. 185, 604 (2014)\n",
      "PLUMED: Please read and cite where appropriate!\n",
      "PLUMED: Finished setup\n",
      "PLUMED: Action FAKE\n",
      "PLUMED:   with label phi\n",
      "PLUMED: Action FUNCSUMHILLS\n",
      "PLUMED:   with label @1\n",
      "PLUMED:   with arguments phi\n",
      "PLUMED:   Output format is %14.9f\n",
      "PLUMED:   hillsfile  : HILLS\n",
      "PLUMED:    \n",
      "PLUMED:   No boundaries defined: need to do a prescreening of hills \n",
      "PLUMED:   doing serialread \n",
      "PLUMED:   opening file HILLS\n",
      "PLUMED:   closing file HILLS\n",
      "PLUMED:   now total 20000 kernels \n",
      "PLUMED:   final chunk: now with 20000 kernels  \n",
      "PLUMED:   found boundaries from hillsfile: \n",
      "PLUMED:   variable phi min: -3.14159 max: 3.14159 nbin: 60\n",
      "PLUMED:   done!\n",
      "PLUMED:    \n",
      "PLUMED:   Doing only one integration: no stride \n",
      "PLUMED:   mintozero: bias/histogram will be translated to have the minimum value equal to zero\n",
      "PLUMED:   output file for fes/bias  is :  hills_fes/fes.dat\n",
      "PLUMED: \n",
      "PLUMED:   Now calculating...\n",
      "PLUMED: \n",
      "PLUMED:   reading hills: \n",
      "PLUMED:   doing serialread \n",
      "PLUMED:   opening file HILLS\n",
      "PLUMED:   closing file HILLS\n",
      "PLUMED:   now total 20000 kernels \n",
      "PLUMED:   final chunk: now with 20000 kernels  \n",
      "PLUMED: \n",
      "PLUMED:   Writing full grid on file hills_fes/fes.dat \n",
      "PLUMED:                                               Cycles        Total      Average      Minumum      Maximum\n",
      "PLUMED: 0 Summing hills                                    1     0.463092     0.463092     0.463092     0.463092\n",
      "PLUMED:                                               Cycles        Total      Average      Minumum      Maximum\n",
      "PLUMED:                                                    1     0.000090     0.000090     0.000090     0.000090\n"
     ]
    }
   ],
   "source": [
    "%%bash\n",
    "mkdir -p hills_fes\n",
    "plumed sum_hills --hills HILLS --mintozero --outfile hills_fes/fes.dat"
   ]
  },
  {
   "cell_type": "code",
   "execution_count": 28,
   "metadata": {},
   "outputs": [],
   "source": [
    "import plumed\n",
    "import numpy as np\n",
    "import matplotlib.pyplot as plt"
   ]
  },
  {
   "cell_type": "code",
   "execution_count": 25,
   "metadata": {},
   "outputs": [],
   "source": [
    "hills_f = plumed.read_as_pandas(\"HILLS\")\n",
    "fes_sum_hills = plumed.read_as_pandas(\"hills_fes/fes.dat\")"
   ]
  },
  {
   "cell_type": "markdown",
   "metadata": {},
   "source": [
    "### Defining the Free energy function as a function of sum of gaussians : "
   ]
  },
  {
   "cell_type": "markdown",
   "metadata": {},
   "source": [
    "$$ F(s) = - V(s) \\\\ $$\n",
    "$$ F(s) = - \\sum_{i=1}^N w_i * exp(- \\frac{(s - s_i)^2}{2 \\sigma^2}) $$"
   ]
  },
  {
   "cell_type": "code",
   "execution_count": 87,
   "metadata": {},
   "outputs": [],
   "source": [
    "def compute_N(s, hills):\n",
    "    exp_val = - (s - hills[\"phi\"])**2 / (2 * hills[\"sigma_phi\"]**2)\n",
    "    return -1 * np.sum(hills[\"height\"] * np.exp(exp_val))"
   ]
  },
  {
   "cell_type": "code",
   "execution_count": 88,
   "metadata": {},
   "outputs": [],
   "source": [
    "delta_f = []\n",
    "for s_k in fes_sum_hills[\"phi\"]:\n",
    "    delta_f.append(compute_N(s_k, hills_f))\n",
    "delta_f -= min(delta_f)"
   ]
  },
  {
   "cell_type": "code",
   "execution_count": 89,
   "metadata": {},
   "outputs": [
    {
     "data": {
      "text/plain": [
       "<matplotlib.legend.Legend at 0x14b842423e80>"
      ]
     },
     "execution_count": 89,
     "metadata": {},
     "output_type": "execute_result"
    },
    {
     "data": {
      "image/png": "[encoded data removed]",
      "text/plain": [
       "<Figure size 432x288 with 1 Axes>"
      ]
     },
     "metadata": {
      "needs_background": "light"
     },
     "output_type": "display_data"
    }
   ],
   "source": [
    "plt.plot(fes_sum_hills[\"phi\"], delta_f, label = \"Custom summing of gaussians\")\n",
    "plt.plot(fes_sum_hills[\"phi\"], fes_sum_hills[\"file.free\"], label = \"F(s) using sum_hills utility\")\n",
    "plt.legend()"
   ]
  },
  {
   "cell_type": "markdown",
   "metadata": {},
   "source": [
    "### Todo : \n",
    "* Find out why there is an irregularity at the ends"
   ]
  },
  {
   "cell_type": "markdown",
   "metadata": {},
   "source": [
    "## sum_hills utility for unbiased runs"
   ]
  },
  {
   "cell_type": "markdown",
   "metadata": {},
   "source": [
    "* For unbiased runs, considering one cv, we need to make a histogram of values of the cv, and plot $F(s) = -k_B T \\ln{\\frac{N(s)}{\\sum N(s)}} $\n",
    "* Issue with this is that some bins are almost never explored, giving $N(s) = 0$, and hence $F(s) = \\inf$\n",
    "* While this is true in theory, we would like our free energy surfaces to be nice, continuous curves, instead of hills and holes.\n",
    "* Which is why `sum_hills` uses gaussians to do this for it."
   ]
  },
  {
   "cell_type": "markdown",
   "metadata": {},
   "source": [
    "### Gaussians? For normal histograms? How?"
   ]
  },
  {
   "cell_type": "markdown",
   "metadata": {},
   "source": [
    "* For every histogram center s_c, we do the following : \n",
    "    * Calculate $$ exp(-\\frac{-(s - s_c)^2}{2 \\sigma^2 }) \\forall \\: \\: \\text{colvar values noted during the simulation} $$ \n",
    "    * For colvar values close to the center, a value close to 1 is obtained.\n",
    "    * For colvar values far from the center, a value close to 0 is obtained.\n",
    "    * This results in a smoother free energy surface, instead of incrementing the bin which the colvar is closest to, and leaving the rest of the bins unchanged.\n",
    "    * The histogram value $N(s_c)$ then becomes $$ N(s_c) = \\sum_{s} exp(-\\frac{-(s - s_c)^2}{2 \\sigma^2 }) $$"
   ]
  },
  {
   "cell_type": "markdown",
   "metadata": {},
   "source": [
    "### Example"
   ]
  },
  {
   "cell_type": "markdown",
   "metadata": {},
   "source": [
    "* COLVAR.0 is a file obtained from a REMD simulation followed in the gromacs tutorial (link)\n",
    "* We will first understand this concept in 1-D CV (phi), then extrapolate it to 2-D"
   ]
  },
  {
   "cell_type": "code",
   "execution_count": 86,
   "metadata": {},
   "outputs": [
    {
     "name": "stdout",
     "output_type": "stream",
     "text": [
      "PLUMED: PLUMED is starting\n",
      "PLUMED: Version: 2.6.1 (git: Unknown) compiled on Sep  9 2020 at 14:32:15\n",
      "PLUMED: Please cite these papers when using PLUMED [1][2]\n",
      "PLUMED: For further information see the PLUMED web page at http://www.plumed.org\n",
      "PLUMED: Root: /usr/local/apps/plumed-2.6.1/lib/plumed\n",
      "PLUMED: For installed feature, see /usr/local/apps/plumed-2.6.1/lib/plumed/src/config/config.txt\n",
      "PLUMED: Molecular dynamics engine: \n",
      "PLUMED: Precision of reals: 8\n",
      "PLUMED: Running over 1 node\n",
      "PLUMED: Number of threads: 1\n",
      "PLUMED: Cache line size: 512\n",
      "PLUMED: Number of atoms: 1\n",
      "PLUMED: File suffix: \n",
      "PLUMED: Timestep: 0.000000\n",
      "PLUMED: KbT has not been set by the MD engine\n",
      "PLUMED: It should be set by hand where needed\n",
      "PLUMED: Relevant bibliography:\n",
      "PLUMED:   [1] The PLUMED consortium, Nat. Methods 16, 670 (2019)\n",
      "PLUMED:   [2] Tribello, Bonomi, Branduardi, Camilloni, and Bussi, Comput. Phys. Commun. 185, 604 (2014)\n",
      "PLUMED: Please read and cite where appropriate!\n",
      "PLUMED: Finished setup\n",
      "PLUMED: Action FAKE\n",
      "PLUMED:   with label phi\n",
      "PLUMED: Action FAKE\n",
      "PLUMED:   with label psi\n",
      "PLUMED: Action FUNCSUMHILLS\n",
      "PLUMED:   with label @2\n",
      "PLUMED:   with arguments phi psi\n",
      "PLUMED:   Output format is %14.9f\n",
      "PLUMED:   histofile  : COLVAR.0\n",
      "PLUMED:   histosigma  : 0.2\n",
      "PLUMED:    \n",
      "PLUMED:   No boundaries defined: need to do a prescreening of hills \n",
      "PLUMED:   doing serialread \n",
      "PLUMED:   opening file COLVAR.0\n",
      "PLUMED:   closing file COLVAR.0\n",
      "PLUMED:   now total 100001 kernels \n",
      "PLUMED:   final chunk: now with 100001 kernels  \n",
      "PLUMED:   found boundaries from histofile: \n",
      "PLUMED:   variable phi min: -3.14159 max: 3.14159 nbin: 315\n",
      "PLUMED:   done!\n",
      "PLUMED:    \n",
      "PLUMED:   projection 0 : phi\n",
      "PLUMED:   beta is 0.4\n",
      "PLUMED:   Doing only one integration: no stride \n",
      "PLUMED:   mintozero: bias/histogram will be translated to have the minimum value equal to zero\n",
      "PLUMED:   output file for histogram is :  fes_colvar/histo.dat\n",
      "PLUMED: \n",
      "PLUMED:   Now calculating...\n",
      "PLUMED: \n",
      "PLUMED:   reading histogram: \n",
      "PLUMED:   doing serialread \n",
      "PLUMED:   opening file COLVAR.0\n",
      "PLUMED:   closing file COLVAR.0\n",
      "PLUMED:   now total 100001 kernels \n",
      "PLUMED:   final chunk: now with 100001 kernels  \n",
      "PLUMED: \n",
      "PLUMED:   Histo: Projecting on subgrid... \n",
      "PLUMED:   Histo: Writing subgrid on file fes_colvar/histo.dat \n",
      "PLUMED:                                               Cycles        Total      Average      Minumum      Maximum\n",
      "PLUMED: 0 Summing hills                                    1     1.781451     1.781451     1.781451     1.781451\n",
      "PLUMED:                                               Cycles        Total      Average      Minumum      Maximum\n",
      "PLUMED:                                                    1     0.000084     0.000084     0.000084     0.000084\n"
     ]
    }
   ],
   "source": [
    "%%bash\n",
    "mkdir -p fes_colvar\n",
    "plumed sum_hills --histo COLVAR.0 --sigma 0.2 --idw phi --kt 2.5 --mintozero --outhisto fes_colvar/histo.dat"
   ]
  },
  {
   "cell_type": "code",
   "execution_count": 69,
   "metadata": {},
   "outputs": [],
   "source": [
    "def N_s(histogram_center, colvar_f):\n",
    "    sigma = 0.2\n",
    "    phi = colvar_f[\"phi\"].to_numpy()\n",
    "    exp_val = -1 * (histogram_center - phi)**2/  (2 * sigma**2)\n",
    "    return np.sum(np.exp(exp_val))"
   ]
  },
  {
   "cell_type": "code",
   "execution_count": 78,
   "metadata": {},
   "outputs": [],
   "source": [
    "histo_sum_hills = plumed.read_as_pandas(\"fes_colvar/histo.dat\")\n",
    "colvar_f = plumed.read_as_pandas(\"COLVAR.0\")"
   ]
  },
  {
   "cell_type": "code",
   "execution_count": 73,
   "metadata": {},
   "outputs": [],
   "source": [
    "histo_custom = []\n",
    "for s in histo_sum_hills[\"phi\"]:\n",
    "    histo_custom.append(N_s(s, colvar_f))\n",
    "kT = 2.5\n",
    "histo_custom = - kT * np.log(histo_custom)\n",
    "histo_custom = histo_custom - histo_custom.min()"
   ]
  },
  {
   "cell_type": "code",
   "execution_count": 81,
   "metadata": {},
   "outputs": [
    {
     "data": {
      "text/plain": [
       "<matplotlib.legend.Legend at 0x14b842188f98>"
      ]
     },
     "execution_count": 81,
     "metadata": {},
     "output_type": "execute_result"
    },
    {
     "data": {
      "image/png": "[encoded data removed]",
      "text/plain": [
       "<Figure size 432x288 with 1 Axes>"
      ]
     },
     "metadata": {
      "needs_background": "light"
     },
     "output_type": "display_data"
    }
   ],
   "source": [
    "plt.plot(histo_sum_hills[\"phi\"], histo_custom, label = \"Custom gaussian kernel sum\")\n",
    "plt.plot(histo_sum_hills[\"phi\"], histo_sum_hills[\"file.free\"], label=\"sum_hills histogram\")\n",
    "plt.xlabel(\"phi [rad]\")\n",
    "plt.ylabel(\"Free energy [kJ / mol]\")\n",
    "plt.legend()"
   ]
  },
  {
   "cell_type": "markdown",
   "metadata": {},
   "source": [
    "### Same concept for 2-D curves"
   ]
  },
  {
   "cell_type": "code",
   "execution_count": 85,
   "metadata": {},
   "outputs": [
    {
     "name": "stdout",
     "output_type": "stream",
     "text": [
      "PLUMED: PLUMED is starting\n",
      "PLUMED: Version: 2.6.1 (git: Unknown) compiled on Sep  9 2020 at 14:32:15\n",
      "PLUMED: Please cite these papers when using PLUMED [1][2]\n",
      "PLUMED: For further information see the PLUMED web page at http://www.plumed.org\n",
      "PLUMED: Root: /usr/local/apps/plumed-2.6.1/lib/plumed\n",
      "PLUMED: For installed feature, see /usr/local/apps/plumed-2.6.1/lib/plumed/src/config/config.txt\n",
      "PLUMED: Molecular dynamics engine: \n",
      "PLUMED: Precision of reals: 8\n",
      "PLUMED: Running over 1 node\n",
      "PLUMED: Number of threads: 1\n",
      "PLUMED: Cache line size: 512\n",
      "PLUMED: Number of atoms: 1\n",
      "PLUMED: File suffix: \n",
      "PLUMED: Timestep: 0.000000\n",
      "PLUMED: KbT has not been set by the MD engine\n",
      "PLUMED: It should be set by hand where needed\n",
      "PLUMED: Relevant bibliography:\n",
      "PLUMED:   [1] The PLUMED consortium, Nat. Methods 16, 670 (2019)\n",
      "PLUMED:   [2] Tribello, Bonomi, Branduardi, Camilloni, and Bussi, Comput. Phys. Commun. 185, 604 (2014)\n",
      "PLUMED: Please read and cite where appropriate!\n",
      "PLUMED: Finished setup\n",
      "PLUMED: Action FAKE\n",
      "PLUMED:   with label phi\n",
      "PLUMED: Action FAKE\n",
      "PLUMED:   with label psi\n",
      "PLUMED: Action FUNCSUMHILLS\n",
      "PLUMED:   with label @2\n",
      "PLUMED:   with arguments phi psi\n",
      "PLUMED:   Output format is %14.9f\n",
      "PLUMED:   histofile  : COLVAR.0\n",
      "PLUMED:   histosigma  : 0.2\n",
      "PLUMED:   histosigma  : 0.2\n",
      "PLUMED:    \n",
      "PLUMED:   No boundaries defined: need to do a prescreening of hills \n",
      "PLUMED:   doing serialread \n",
      "PLUMED:   opening file COLVAR.0\n",
      "PLUMED:   closing file COLVAR.0\n",
      "PLUMED:   now total 100001 kernels \n",
      "PLUMED:   final chunk: now with 100001 kernels  \n",
      "PLUMED:   found boundaries from histofile: \n",
      "PLUMED:   variable phi min: -3.14159 max: 3.14159 nbin: 315\n",
      "PLUMED:   variable psi min: -3.14159 max: 3.14159 nbin: 315\n",
      "PLUMED:   done!\n",
      "PLUMED:    \n",
      "PLUMED:   projection 0 : phi\n",
      "PLUMED:   projection 1 : psi\n",
      "PLUMED:   beta is 0.4\n",
      "PLUMED:   Doing only one integration: no stride \n",
      "PLUMED:   mintozero: bias/histogram will be translated to have the minimum value equal to zero\n",
      "PLUMED:   output file for histogram is :  fes_colvar/histo_2D.dat\n",
      "PLUMED: \n",
      "PLUMED:   Now calculating...\n",
      "PLUMED: \n",
      "PLUMED:   reading histogram: \n",
      "PLUMED:   doing serialread \n",
      "PLUMED:   opening file COLVAR.0\n",
      "PLUMED:   closing file COLVAR.0\n",
      "PLUMED:   now total 100001 kernels \n",
      "PLUMED:   final chunk: now with 100001 kernels  \n",
      "PLUMED: \n",
      "PLUMED:   Histo: Projecting on subgrid... \n",
      "PLUMED:   Histo: Writing subgrid on file fes_colvar/histo_2D.dat \n",
      "PLUMED:                                               Cycles        Total      Average      Minumum      Maximum\n",
      "PLUMED: 0 Summing hills                                    1    83.974116    83.974116    83.974116    83.974116\n",
      "PLUMED:                                               Cycles        Total      Average      Minumum      Maximum\n",
      "PLUMED:                                                    1     0.000196     0.000196     0.000196     0.000196\n"
     ]
    }
   ],
   "source": [
    "!plumed sum_hills --histo COLVAR.0 --mintozero --sigma 0.2,0.2 --kt 2.5 --outhisto fes_colvar/histo_2D.dat"
   ]
  },
  {
   "cell_type": "code",
   "execution_count": 96,
   "metadata": {},
   "outputs": [],
   "source": [
    "def compute_N_2D(x_c, y_c, colvars_f):\n",
    "    phi = colvars_f[\"phi\"].to_numpy()\n",
    "    psi = colvars_f[\"psi\"].to_numpy()\n",
    "    sigma_x = 0.2\n",
    "    sigma_y = 0.2\n",
    "    exp_val = -1*((x_c - phi)**2 / (2 * sigma_x**2) + (y_c - psi)**2 / (2 * sigma_y**2))\n",
    "    return np.sum(np.exp(exp_val))"
   ]
  },
  {
   "cell_type": "code",
   "execution_count": 105,
   "metadata": {},
   "outputs": [],
   "source": [
    "colvars_f_2D = plumed.read_as_pandas(\"COLVAR.0\")\n",
    "fes_2D = plumed.read_as_pandas(\"fes_colvar/histo_2D.dat\")"
   ]
  },
  {
   "cell_type": "code",
   "execution_count": 110,
   "metadata": {},
   "outputs": [],
   "source": [
    "N_s_2D = np.zeros(l)"
   ]
  },
  {
   "cell_type": "code",
   "execution_count": 111,
   "metadata": {},
   "outputs": [],
   "source": [
    "for i in range(l):\n",
    "    x_c = fes_2D[\"phi\"][i]\n",
    "    y_c = fes_2D[\"psi\"][i]\n",
    "    N_s_2D[i] = compute_N_2D(x_c, y_c, colvars_f_2D)"
   ]
  },
  {
   "cell_type": "code",
   "execution_count": 154,
   "metadata": {},
   "outputs": [],
   "source": [
    "x = fes_2D[\"phi\"].to_numpy()\n",
    "x = x.reshape(315, -1)\n",
    "y = fes_2D[\"psi\"].to_numpy()\n",
    "y = y.reshape(315, -1)\n",
    "kt = 2.5\n",
    "\n",
    "z_custom = -kt * np.log(N_s_2D)\n",
    "z_custom = z.reshape(315, -1)\n",
    "\n",
    "z_sum_hills = fes_2D[\"file.free\"].to_numpy()\n",
    "z_sum_hills = z_sum_hills.reshape(315, -1)"
   ]
  },
  {
   "cell_type": "code",
   "execution_count": 160,
   "metadata": {},
   "outputs": [
    {
     "data": {
      "text/plain": [
       "<matplotlib.colorbar.Colorbar at 0x14b840f038d0>"
      ]
     },
     "execution_count": 160,
     "metadata": {},
     "output_type": "execute_result"
    },
    {
     "data": {
      "image/png": "[encoded data removed]",
      "text/plain": [
       "<Figure size 1008x576 with 4 Axes>"
      ]
     },
     "metadata": {
      "needs_background": "light"
     },
     "output_type": "display_data"
    }
   ],
   "source": [
    "fig = plt.figure(figsize = (14, 8))\n",
    "# plt.contour(x, y, z, 20, cmap='RdGy')\n",
    "\n",
    "fig.add_subplot(1, 2, 1)\n",
    "plt.contourf(x, y, z_custom - z_custom.min(), 20, cmap='RdGy')\n",
    "plt.xlabel(\"phi [rad]\")\n",
    "plt.ylabel(\"psi [rad]\")\n",
    "plt.title(\"Custom\")\n",
    "plt.colorbar()\n",
    "\n",
    "fig.add_subplot(1, 2, 2)\n",
    "plt.contourf(x, y, z_sum_hills, 20, cmap='RdGy')\n",
    "plt.xlabel(\"phi [rad]\")\n",
    "plt.ylabel(\"psi [rad]\")\n",
    "plt.title(\"Sum Hills\")\n",
    "plt.colorbar()"
   ]
  },
  {
   "cell_type": "markdown",
   "metadata": {},
   "source": [
    "## Unanswered questions : \n",
    "* Why is there a difference when same set of parameters is used ?\n",
    "* Why does sum_hills have a `white patch` while ours doesn't?"
   ]
  }
 ],
 "metadata": {
  "kernelspec": {
   "display_name": "MD",
   "language": "python",
   "name": "md"
  },
  "language_info": {
   "codemirror_mode": {
    "name": "ipython",
    "version": 3
   },
   "file_extension": ".py",
   "mimetype": "text/x-python",
   "name": "python",
   "nbconvert_exporter": "python",
   "pygments_lexer": "ipython3",
   "version": "3.6.12"
  }
 },
 "nbformat": 4,
 "nbformat_minor": 2
}
