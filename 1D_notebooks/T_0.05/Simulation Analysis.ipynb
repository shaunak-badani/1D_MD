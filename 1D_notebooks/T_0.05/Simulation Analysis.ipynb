{
 "cells": [
  {
   "cell_type": "code",
   "execution_count": 1,
   "metadata": {},
   "outputs": [],
   "source": [
    "import numpy as np\n",
    "import matplotlib.pyplot as plt"
   ]
  },
  {
   "cell_type": "code",
   "execution_count": 2,
   "metadata": {},
   "outputs": [],
   "source": [
    "Temperature=\"0.05\"\n",
    "TXT_PATH=\"/scratch/shaunak/T_{}/\".format(Temperature)"
   ]
  },
  {
   "cell_type": "code",
   "execution_count": 3,
   "metadata": {},
   "outputs": [
    {
     "data": {
      "text/plain": [
       "0"
      ]
     },
     "execution_count": 3,
     "metadata": {},
     "output_type": "execute_result"
    }
   ],
   "source": [
    "import os\n",
    "SCRATCH_PATH=\"/scratch/shaunak/T_{}\".format(Temperature)\n",
    "os.system('mkdir -p {}'.format(SCRATCH_PATH))\n",
    "os.system('rsync -aPs ada:\"/share1/shaunak/1D_system/T_{}/*.txt\" {}'.format(Temperature, SCRATCH_PATH))"
   ]
  },
  {
   "cell_type": "code",
   "execution_count": 4,
   "metadata": {},
   "outputs": [],
   "source": [
    "def read_from_file(pos_file, vel_file):\n",
    "    x_f = open(\"{}/{}\".format(SCRATCH_PATH, pos_file), \"r\")\n",
    "    v_f = open(\"{}/{}\".format(SCRATCH_PATH, vel_file), \"r\")    \n",
    "    pos, vel = [], []\n",
    "    \n",
    "    lines = x_f.readlines()\n",
    "    for line in lines:\n",
    "        l = line.split(' ')\n",
    "        pos.append([float(i) for i in l])\n",
    "    pos = np.array(pos)\n",
    "    \n",
    "    lines = v_f.readlines()\n",
    "    for line in lines:\n",
    "        l = line.split(' ')\n",
    "        vel.append([float(i) for i in l])\n",
    "    vel = np.array(vel)\n",
    "    \n",
    "    return pos, vel"
   ]
  },
  {
   "cell_type": "code",
   "execution_count": 5,
   "metadata": {},
   "outputs": [
    {
     "name": "stdout",
     "output_type": "stream",
     "text": [
      "(10000000, 1) (10000000, 1)\n"
     ]
    }
   ],
   "source": [
    "pos, vel = read_from_file(\"positions.txt\", \"velocities.txt\")\n",
    "print(pos.shape, vel.shape)"
   ]
  },
  {
   "cell_type": "code",
   "execution_count": 27,
   "metadata": {},
   "outputs": [],
   "source": [
    "counts, bounds = np.histogram(pos.flatten(), bins=np.arange(-2.5, 2.5, 0.01))"
   ]
  },
  {
   "cell_type": "code",
   "execution_count": 32,
   "metadata": {},
   "outputs": [],
   "source": [
    "centers = (bounds[1:] + bounds[:-1]) / 2\n",
    "prob = counts / counts.sum()"
   ]
  },
  {
   "cell_type": "code",
   "execution_count": 33,
   "metadata": {},
   "outputs": [
    {
     "data": {
      "text/plain": [
       "[<matplotlib.lines.Line2D at 0x1457a13dd208>]"
      ]
     },
     "execution_count": 33,
     "metadata": {},
     "output_type": "execute_result"
    },
    {
     "data": {
      "image/png": "[encoded data removed]",
      "text/plain": [
       "<Figure size 720x216 with 1 Axes>"
      ]
     },
     "metadata": {
      "needs_background": "light"
     },
     "output_type": "display_data"
    }
   ],
   "source": [
    "fig = plt.figure(figsize = (10, 3))\n",
    "plt.plot(centers, prob, linestyle = '--')"
   ]
  }
 ],
 "metadata": {
  "kernelspec": {
   "display_name": "MD",
   "language": "python",
   "name": "md"
  },
  "language_info": {
   "codemirror_mode": {
    "name": "ipython",
    "version": 3
   },
   "file_extension": ".py",
   "mimetype": "text/x-python",
   "name": "python",
   "nbconvert_exporter": "python",
   "pygments_lexer": "ipython3",
   "version": "3.6.12"
  }
 },
 "nbformat": 4,
 "nbformat_minor": 2
}
