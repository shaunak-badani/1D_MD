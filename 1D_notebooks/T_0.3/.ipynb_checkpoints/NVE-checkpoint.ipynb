{
 "cells": [
  {
   "cell_type": "code",
   "execution_count": null,
   "metadata": {},
   "outputs": [],
   "source": [
    "import math \n",
    "import random\n",
    "import numpy as np\n",
    "import matplotlib.pyplot as plt"
   ]
  },
  {
   "cell_type": "markdown",
   "metadata": {},
   "source": [
    "# Units"
   ]
  },
  {
   "cell_type": "code",
   "execution_count": null,
   "metadata": {},
   "outputs": [],
   "source": [
    "BOLTZMANN = 1.380649e-23 \n",
    "AVOGADRO = 6.02214076e23\n",
    "KILO = 1e3\n",
    "RGAS = BOLTZMANN*AVOGADRO\n",
    "BOLTZ = (RGAS/KILO)  "
   ]
  },
  {
   "cell_type": "markdown",
   "metadata": {},
   "source": [
    "# System Configuration"
   ]
  },
  {
   "cell_type": "code",
   "execution_count": null,
   "metadata": {},
   "outputs": [],
   "source": [
    "d = 1\n",
    "n = 10\n",
    "Reduced_Temp = 1\n",
    "Multiplier = 119.8\n",
    "T = Reduced_Temp * Multiplier"
   ]
  },
  {
   "cell_type": "markdown",
   "metadata": {},
   "source": [
    "# General Functions for MD simulations"
   ]
  },
  {
   "cell_type": "markdown",
   "metadata": {},
   "source": [
    "## Velocity Initialization"
   ]
  },
  {
   "cell_type": "code",
   "execution_count": null,
   "metadata": {},
   "outputs": [],
   "source": [
    "def generate_velocities(number_particles, system_dimension, masses, temperature):\n",
    "    h = []\n",
    "    dof = number_particles * system_dimension\n",
    "    while(len(h) < dof):\n",
    "        r2 = 0\n",
    "        while r2 >= 1 or r2 == 0:\n",
    "            x = 2 * random.uniform(0, 1) - 1\n",
    "            y = 2 * random.uniform(0, 1) - 1\n",
    "            r2 = x**2 + y**2\n",
    "        mult = math.sqrt(- 2 * math.log(r2) / r2)\n",
    "        h.extend([x*mult, y*mult])\n",
    "    vels = np.array(h[:dof]).reshape(-1, 1).astype('float32')\n",
    "    scaledvels = vels * np.sqrt(BOLTZ * temperature / masses)\n",
    "    return scaledvels"
   ]
  },
  {
   "cell_type": "markdown",
   "metadata": {},
   "source": [
    "## Integrator"
   ]
  },
  {
   "cell_type": "code",
   "execution_count": null,
   "metadata": {},
   "outputs": [],
   "source": [
    "def velocity_verlet_step(x, v, m, dt):\n",
    "    F = np.array(list(map(force, x.flatten()))).reshape(x.shape)\n",
    "    v = v + (dt / 2) * (F / m)\n",
    "    x = x + (dt) * v\n",
    "    F = np.array(list(map(force, x.flatten()))).reshape(x.shape)\n",
    "    v = v + (dt / 2) * (F / m)\n",
    "    return x, v"
   ]
  },
  {
   "cell_type": "markdown",
   "metadata": {},
   "source": [
    "##  Potential energy and Force function"
   ]
  },
  {
   "cell_type": "code",
   "execution_count": null,
   "metadata": {},
   "outputs": [],
   "source": [
    "def pot_energy(x):\n",
    "    rv = 1e2\n",
    "    if x >= -2 and x <= -1.25:\n",
    "        rv = 1 + np.sin(2 * np.pi * x)\n",
    "    \n",
    "    if x >= -1.25 and x <= -0.25:\n",
    "        rv = 2 * (1 + np.sin(2 * np.pi * x))\n",
    "        \n",
    "    if x >= -0.25 and x <= 0.75:\n",
    "        rv = 3 * (1 + np.sin(2 * np.pi * x))\n",
    "                  \n",
    "    if x >= 0.75 and x <= 1.75:\n",
    "        rv = 4 * (1 + np.sin(2 * np.pi * x))\n",
    "                  \n",
    "    if x >= 1.75 and x <= 2:\n",
    "        rv = 5 * (1 + np.sin(2 * np.pi * x))\n",
    "                  \n",
    "    return rv"
   ]
  },
  {
   "cell_type": "code",
   "execution_count": null,
   "metadata": {},
   "outputs": [],
   "source": [
    "def force(x):\n",
    "    lorge = 60\n",
    "    if x < -2:\n",
    "        return lorge\n",
    "    if x > 2:\n",
    "        return -1 * lorge\n",
    "    rv = 0\n",
    "    if x >= -2 and x <= -1.25:\n",
    "        rv = -2 * np.pi * np.cos(2 * np.pi * x)\n",
    "    \n",
    "    if x >= -1.25 and x <= -0.25:\n",
    "        rv = -4 * np.pi * np.cos(2 * np.pi * x)\n",
    "        \n",
    "    if x >= -0.25 and x <= 0.75:\n",
    "        rv = -6 * np.pi * np.cos(2 * np.pi * x)\n",
    "                  \n",
    "    if x >= 0.75 and x <= 1.75:\n",
    "        rv = -8 * np.pi * np.cos(2 * np.pi * x)\n",
    "        \n",
    "    if x >= 1.75 and x <= 2:\n",
    "        rv = -10 * np.pi * np.cos(2 * np.pi * x)\n",
    "                  \n",
    "    return rv"
   ]
  },
  {
   "cell_type": "code",
   "execution_count": null,
   "metadata": {},
   "outputs": [],
   "source": [
    "tmp_x = np.linspace(-5, 5, 1000)\n",
    "U = np.array(list(map(pot_energy, tmp_x)))\n",
    "f = np.array(list(map(force, tmp_x)))"
   ]
  },
  {
   "cell_type": "code",
   "execution_count": null,
   "metadata": {},
   "outputs": [],
   "source": [
    "fig, axes = plt.subplots(nrows = 1, ncols = 2, figsize = (15, 5))\n",
    "\n",
    "axes[0].plot(tmp_x, f)\n",
    "axes[0].set_xlabel(r'$x$')\n",
    "_ = axes[0].set_ylabel(r'$F$')\n",
    "\n",
    "axes[1].plot(tmp_x, U)\n",
    "axes[1].set_xlabel(r'$x$')\n",
    "_ = axes[1].set_ylabel(r'$U$')\n"
   ]
  },
  {
   "cell_type": "markdown",
   "metadata": {},
   "source": [
    "## Helper Functions"
   ]
  },
  {
   "cell_type": "code",
   "execution_count": null,
   "metadata": {},
   "outputs": [],
   "source": [
    "def write_to_file(x, v, step):\n",
    "    p = ' '.join([str(i) for i in x.flatten()])\n",
    "    pos_file.write(p)\n",
    "    pos_file.write(\"\\n\")\n",
    "    \n",
    "    p = ' '.join([str(i) for i in v.flatten()])\n",
    "    vel_file.write(p)\n",
    "    vel_file.write(\"\\n\")\n",
    "    \n",
    "\n",
    "    \n",
    "def step(num_steps, x, v, m, dt, file_path):\n",
    "    global vel_file, pos_file\n",
    "    vel_file = open(\"{}/{}\".format(file_path, \"velocities.txt\"), \"w\")\n",
    "    pos_file = open(\"{}/{}\".format(file_path, \"positions.txt\"), \"w\")\n",
    "    for i in range(num_steps):\n",
    "        x_new, v_new = velocity_verlet_step(x, v, m, dt)\n",
    "        write_to_file(x, v, i)\n",
    "        x, v = x_new, v_new\n",
    "    pos_file.close()\n",
    "    vel_file.close()"
   ]
  },
  {
   "cell_type": "markdown",
   "metadata": {},
   "source": [
    "### Simulation at $T_A$ = 0.30"
   ]
  },
  {
   "cell_type": "code",
   "execution_count": null,
   "metadata": {},
   "outputs": [],
   "source": [
    "config = {\n",
    "    'num_particles' : 1,\n",
    "    'temperature' : 0.30,\n",
    "    'num_steps' : int(1e7),\n",
    "    'data_files_path' : '/scratch/shaunak/T_0.3'\n",
    "}"
   ]
  },
  {
   "cell_type": "code",
   "execution_count": null,
   "metadata": {},
   "outputs": [],
   "source": [
    "reduced_temperature = config['temperature']\n",
    "n = config['num_particles']\n",
    "num_steps = config['num_steps']\n",
    "m = np.ones((n, 1))\n",
    "file_path = config['data_files_path']\n",
    "print(\"Number of particles = \", n)\n",
    "print(\"Temperature = \", reduced_temperature)"
   ]
  },
  {
   "cell_type": "code",
   "execution_count": null,
   "metadata": {},
   "outputs": [],
   "source": [
    "T = reduced_temperature * Multiplier\n",
    "vel_a = generate_velocities(n, d, m, T)"
   ]
  },
  {
   "cell_type": "code",
   "execution_count": null,
   "metadata": {},
   "outputs": [],
   "source": [
    "x = np.random.normal(-1.6, 0.9, size = (n, d))"
   ]
  },
  {
   "cell_type": "code",
   "execution_count": null,
   "metadata": {},
   "outputs": [],
   "source": [
    "print(x.shape, vel_a.shape)"
   ]
  },
  {
   "cell_type": "code",
   "execution_count": null,
   "metadata": {},
   "outputs": [],
   "source": [
    "import os\n",
    "os.system(\"mkdir -p {}\".format(file_path))"
   ]
  },
  {
   "cell_type": "code",
   "execution_count": null,
   "metadata": {},
   "outputs": [],
   "source": [
    "step(num_steps, x, vel_a, m, 1e-3, file_path)"
   ]
  }
 ],
 "metadata": {
  "kernelspec": {
   "display_name": "MD",
   "language": "python",
   "name": "md"
  },
  "language_info": {
   "codemirror_mode": {
    "name": "ipython",
    "version": 3
   },
   "file_extension": ".py",
   "mimetype": "text/x-python",
   "name": "python",
   "nbconvert_exporter": "python",
   "pygments_lexer": "ipython3",
   "version": "3.6.12"
  }
 },
 "nbformat": 4,
 "nbformat_minor": 2
}
