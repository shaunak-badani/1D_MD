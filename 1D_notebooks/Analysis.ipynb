{
 "cells": [
  {
   "cell_type": "code",
   "execution_count": 2,
   "metadata": {},
   "outputs": [],
   "source": [
    "import os\n",
    "import numpy as np\n",
    "import matplotlib.pyplot as plt"
   ]
  },
  {
   "cell_type": "code",
   "execution_count": 3,
   "metadata": {},
   "outputs": [],
   "source": [
    "run_name = 'nvt_new'\n",
    "share_dir = '/share1/shaunak/1D_Run/'"
   ]
  },
  {
   "cell_type": "code",
   "execution_count": 4,
   "metadata": {},
   "outputs": [],
   "source": [
    "# ada_path = os.path.join(share_dir, run_name)\n",
    "# file_loc = \"/scratch/shaunak/1D_Run/analysis\"\n",
    "# os.system(\"mkdir -p {}\".format(file_loc))\n",
    "# os.system(\"rsync -aPs ada:{} {}\".format(ada_path, file_loc))\n",
    "# temperature = 0.3"
   ]
  },
  {
   "cell_type": "code",
   "execution_count": 5,
   "metadata": {},
   "outputs": [],
   "source": [
    "file_loc = \"../Basic/temporary_storage\""
   ]
  },
  {
   "cell_type": "code",
   "execution_count": 28,
   "metadata": {},
   "outputs": [
    {
     "data": {
      "image/png": "[encoded data removed]",
      "text/plain": [
       "<Figure size 1512x504 with 1 Axes>"
      ]
     },
     "metadata": {
      "needs_background": "light"
     },
     "output_type": "display_data"
    }
   ],
   "source": [
    "class Analysis:\n",
    "    def __init__(self):\n",
    "        \n",
    "        self.file_path = os.path.join(file_loc, run_name)\n",
    "\n",
    "        self.images_path = os.path.join(os.getcwd(), \"analysis_plots\", run_name)\n",
    "        os.system(\"mkdir -p {}\".format(self.images_path))\n",
    "\n",
    "   \n",
    "    def plot_temperature(self, temp):\n",
    "        fig = plt.figure(figsize = (21, 7))\n",
    "        file_path = self.file_path\n",
    "        T_file = os.path.join(file_path, \"T.txt\")\n",
    "        T = np.loadtxt(T_file)\n",
    "\n",
    "        \n",
    "        steps = T[:, 0]\n",
    "        plt.plot(steps, T[:, 1], label = \"Temperature\", linewidth = 3, color = 'maroon', alpha = 0.5)\n",
    "        plt.axhline(y = temp, linewidth = 3, color = 'red')\n",
    "        plt.yticks(list(plt.yticks()[0]) + [temp])\n",
    "        plt.yticks(fontsize = 22.5)\n",
    "        plt.xticks(fontsize = 22.5)\n",
    "        \n",
    "        plt.xlabel(\"No of Steps\", fontsize = 30)\n",
    "        ylabel = plt.ylabel(\"Temp \\n erature\", labelpad = 60, fontsize = 30)\n",
    "        ylabel.set_rotation(0)\n",
    "        t_path = os.path.join(self.images_path, \"Temperature.png\")\n",
    "        plt.savefig(t_path)\n",
    "   \n",
    "\n",
    "    \n",
    "    def plot_hprime(self):\n",
    "        file_path = self.file_path\n",
    "        h_prime_path = os.path.join(file_path, \"sys_surr_energy.txt\")\n",
    "        h_prime = np.loadtxt(h_prime_path)\n",
    "        \n",
    "        \n",
    "        fig = plt.figure(figsize = (21, 7))\n",
    "        steps = h_prime[:, 0]\n",
    "        h_prime = h_prime[:, 1]\n",
    "        plt.axhline(y = h_prime.mean(), color = 'red')\n",
    "        plt.axhline(y = h_prime.mean() + 0.2, color = 'red')\n",
    "        plt.axhline(y = h_prime.mean() - 0.2, color = 'red')\n",
    "        plt.plot( steps, h_prime, linewidth = 6, color = 'blue', alpha = 0.5, label = \"H' \")\n",
    "        \n",
    "        \n",
    "        plt.yticks(fontsize = 22.5)\n",
    "        plt.xticks(fontsize = 22.5)\n",
    "        \n",
    "        plt.xlabel(\"Steps\", fontsize = 30)\n",
    "        plt.legend()\n",
    "        ylabel = plt.ylabel(\"H`\", labelpad = 60, fontsize = 30)\n",
    "        ylabel.set_rotation(0)\n",
    "        prime_path = os.path.join(self.images_path, \"H_prime.png\")\n",
    "        plt.savefig(prime_path)\n",
    "        plt.close()\n",
    "            \n",
    "an = Analysis()\n",
    "an.plot_hprime()"
   ]
  },
  {
   "cell_type": "code",
   "execution_count": 9,
   "metadata": {},
   "outputs": [
    {
     "name": "stdout",
     "output_type": "stream",
     "text": [
      "[3 7]\n"
     ]
    }
   ],
   "source": [
    "b = np.array([[1, 2], [3, 4]])\n",
    "print(b.sum(axis = 1))"
   ]
  },
  {
   "cell_type": "code",
   "execution_count": null,
   "metadata": {},
   "outputs": [],
   "source": []
  }
 ],
 "metadata": {
  "kernelspec": {
   "display_name": "MD",
   "language": "python",
   "name": "md"
  },
  "language_info": {
   "codemirror_mode": {
    "name": "ipython",
    "version": 3
   },
   "file_extension": ".py",
   "mimetype": "text/x-python",
   "name": "python",
   "nbconvert_exporter": "python",
   "pygments_lexer": "ipython3",
   "version": "3.6.12"
  }
 },
 "nbformat": 4,
 "nbformat_minor": 2
}
