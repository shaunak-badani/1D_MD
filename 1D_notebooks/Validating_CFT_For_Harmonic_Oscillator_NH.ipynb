{
 "cells": [
  {
   "cell_type": "markdown",
   "metadata": {},
   "source": [
    "# Simulations on Harmonic Oscillator Model\n",
    "We present results on Jarzynski's equality based on the toy model desribed in https://link.aps.org/doi/10.1103/PhysRevE.56.5018.\n",
    "\n",
    "Consider a harmonic oscillator Hamiltonian characterised by parameter $\\omega_\\lambda$. (Mass $m$ is set to 1.)\n",
    "$$ H_\\lambda = \\frac{p^2}{2} + \\omega_\\lambda^2\\frac{x^2}{2} $$\n",
    "\n",
    "Hamilton equations are given as:\n",
    "\\begin{align*}\n",
    "\\dot{x} &= \\frac{\\partial H}{\\partial p} = p \\\\\n",
    "\\dot{p} &= -\\frac{\\partial H}{\\partial x} = -\\omega_\\lambda^2 x \\\\\n",
    "\\end{align*}\n",
    "\n",
    "## Isolated Oscillator\n",
    "The oscillator is assumed to be isolated from the environment. The frequency $\\omega_\\lambda$ is switched from $\\omega_0$ to $\\omega_1$ in time $t_s$. Initial values of $(x,p)$ are samples from a canonical distribution at temperature $\\beta$, $f(x,p) = \\frac{\\beta \\omega_0}{2 \\pi} \\exp\\left( \\beta(\\frac{p^2}{2} + \\omega_\\lambda^2\\frac{x^2}{2}) \\right)$. $N$ independent evolutions are carried out and the work $W_i$ is calculated as $ W_i = \\Delta H$ between $t=0$ and $t=t_s$.\n",
    "\n",
    "We calculate the ensemble average of the work in two ways:\n",
    "\\begin{align*}\n",
    "W^a &= \\frac{1}{N} \\sum W_i \\\\\n",
    "W^x &= -\\beta \\log\\left(\\frac{1}{N} \\sum \\exp \\left( -\\beta W_i \\right) \\right)\n",
    "\\end{align*}"
   ]
  },
  {
   "cell_type": "code",
   "execution_count": 1,
   "metadata": {},
   "outputs": [],
   "source": [
    "import numpy as np\n",
    "import matplotlib.pyplot as plt\n",
    "%matplotlib inline\n",
    "import scipy.integrate"
   ]
  },
  {
   "cell_type": "code",
   "execution_count": 50,
   "metadata": {},
   "outputs": [],
   "source": [
    "class Work_Simulation:\n",
    "    \n",
    "    def __init__(self, beta = 1/1.5, omega_0 = 1.0, omega_1 = 2.0, t_s = 10):\n",
    "        self.beta = beta\n",
    "        self.omega_0 = omega_0\n",
    "        self.omega_1 = omega_1\n",
    "        self.t_s = t_s\n",
    "        \n",
    "    def get_y0(self):\n",
    "        sigma_p = 1/np.sqrt(self.beta)\n",
    "        sigma_x = 1.0/(self.omega_0 * np.sqrt(self.beta))\n",
    "        x = np.random.normal(scale=sigma_x)\n",
    "        p = np.random.normal(scale=sigma_p)\n",
    "        self.y0 = np.array([x, p])\n",
    "        \n",
    "    def calculate_delta_f(self):\n",
    "        pass\n",
    "        \n",
    "    def omega_t(self, t):\n",
    "        return self.omega_0 + (self.omega_1 - self.omega_0)*(t/self.t_s)\n",
    "    \n",
    "    def calc_H(self, y, t):\n",
    "        omega = self.omega_t(t)\n",
    "        H = 0.5*y[1]**2 + 0.5*omega**2*y[0]**2\n",
    "        return H\n",
    "        \n",
    "    def calc_W(self):\n",
    "        y0 = self.res[0]\n",
    "        y1 = self.res[-1]\n",
    "        t = self.t\n",
    "        W = self.calc_H(y1,t[-1]) - self.calc_H(y0,t[0])\n",
    "        return W\n",
    "    \n",
    "    \n",
    "        \n",
    "    def dy_dt(self, y,t):\n",
    "        dx_dt = y[1]\n",
    "        dp_dt = -self.omega_t(t)**2 * y[0]\n",
    "        return np.array([dx_dt,dp_dt])\n",
    "\n",
    "    def simulate(self):\n",
    "        N_t = 1000  # this does not affect the accuracy. Only for plotting purpose.\n",
    "        t = np.linspace(0,self.t_s,N_t)\n",
    "        res = scipy.integrate.odeint(self.dy_dt,self.y0,t)\n",
    "        self.res = res\n",
    "        self.t = t\n",
    "        \n",
    "        self.w = self.calc_W()\n",
    "        "
   ]
  },
  {
   "cell_type": "markdown",
   "metadata": {},
   "source": [
    "* Initialize a work_simulation object\n",
    "* `get_y0()` -> obtains a phase space vector from exp(-BH(z))\n",
    "* `simulate()` -> integrates the equations of motion"
   ]
  },
  {
   "cell_type": "code",
   "execution_count": 51,
   "metadata": {},
   "outputs": [],
   "source": [
    "a = Work_Simulation()\n",
    "a.get_y0()\n",
    "a.simulate()"
   ]
  },
  {
   "cell_type": "code",
   "execution_count": 52,
   "metadata": {},
   "outputs": [
    {
     "data": {
      "text/plain": [
       "<matplotlib.legend.Legend at 0x7f8508ddc6d0>"
      ]
     },
     "execution_count": 52,
     "metadata": {},
     "output_type": "execute_result"
    },
    {
     "data": {
      "image/png": "[encoded data removed]",
      "text/plain": [
       "<Figure size 432x288 with 1 Axes>"
      ]
     },
     "metadata": {
      "needs_background": "light"
     },
     "output_type": "display_data"
    }
   ],
   "source": [
    "plt.plot(a.t, a.res[:, 0], label = 'x')\n",
    "plt.plot(a.t, a.res[:, 1], label = 'p')\n",
    "plt.legend(loc = 'best')"
   ]
  },
  {
   "cell_type": "markdown",
   "metadata": {},
   "source": [
    "* Perform 10^4 simulations, each time obtaining a phase space vector from exp(-beta * H(z))\n",
    "* For each t_s in [1, 3, 10, 31, 100]\n",
    "* Obtain work matrix -> (5, 10000) -> work_[i] denotes 10^4 simulations performed for t_s[i]"
   ]
  },
  {
   "cell_type": "code",
   "execution_count": 92,
   "metadata": {},
   "outputs": [],
   "source": [
    "Nsim = 1000000\n",
    "\n",
    "#ts_values = np.logspace(0, 2, 5)\n",
    "ts_values = np.array([10,])\n",
    "\n",
    "final_phases = np.empty(shape = (ts_values.size, Nsim, 2))\n",
    "works_a = np.zeros(shape = (ts_values.size, Nsim))\n",
    "for i, ts in enumerate(ts_values):\n",
    "    a = Work_Simulation(t_s = ts)\n",
    "    for j in range(Nsim):\n",
    "        a.get_y0()\n",
    "        a.simulate()\n",
    "        works_a[i, j] = a.w\n",
    "        final_phases[i, j] = a.res[-1]"
   ]
  },
  {
   "cell_type": "code",
   "execution_count": 93,
   "metadata": {},
   "outputs": [],
   "source": [
    "w_a = works_a.mean(axis = 1)\n",
    "w_x = - 1 / (a.beta) * np.log(np.mean(np.exp(-a.beta * works_a), axis = 1))"
   ]
  },
  {
   "cell_type": "code",
   "execution_count": 94,
   "metadata": {},
   "outputs": [
    {
     "data": {
      "text/plain": [
       "array([1.03855694])"
      ]
     },
     "execution_count": 94,
     "metadata": {},
     "output_type": "execute_result"
    }
   ],
   "source": [
    "w_x"
   ]
  },
  {
   "cell_type": "code",
   "execution_count": 95,
   "metadata": {},
   "outputs": [
    {
     "data": {
      "text/plain": [
       "array([1.50147671])"
      ]
     },
     "execution_count": 95,
     "metadata": {},
     "output_type": "execute_result"
    }
   ],
   "source": [
    "w_a"
   ]
  },
  {
   "cell_type": "code",
   "execution_count": 96,
   "metadata": {},
   "outputs": [
    {
     "data": {
      "text/plain": [
       "24.090195270346097"
      ]
     },
     "execution_count": 96,
     "metadata": {},
     "output_type": "execute_result"
    }
   ],
   "source": [
    "works_a.max()"
   ]
  },
  {
   "cell_type": "code",
   "execution_count": 97,
   "metadata": {},
   "outputs": [
    {
     "data": {
      "text/plain": [
       "1.040708285078867e-06"
      ]
     },
     "execution_count": 97,
     "metadata": {},
     "output_type": "execute_result"
    }
   ],
   "source": [
    "works_a.min()"
   ]
  },
  {
   "cell_type": "markdown",
   "metadata": {},
   "source": [
    "## Checking validity of Jarzynski equality"
   ]
  },
  {
   "cell_type": "code",
   "execution_count": 98,
   "metadata": {},
   "outputs": [
    {
     "data": {
      "text/plain": [
       "<matplotlib.lines.Line2D at 0x7f84d8b976a0>"
      ]
     },
     "execution_count": 98,
     "metadata": {},
     "output_type": "execute_result"
    },
    {
     "data": {
      "image/png": "[encoded data removed]",
      "text/plain": [
       "<Figure size 432x288 with 1 Axes>"
      ]
     },
     "metadata": {
      "needs_background": "light"
     },
     "output_type": "display_data"
    }
   ],
   "source": [
    "plt.scatter(ts_values, w_a, marker = 'o', label = r'$w_a$')\n",
    "plt.scatter(ts_values, w_x, marker = 'x', color = 'green', s = 50, label = r'$w_x$')\n",
    "plt.legend(loc='best', fontsize = 15)\n",
    "delta_f = 1 / (a.beta) * np.log(a.omega_1 / a.omega_0)\n",
    "plt.xscale('log')\n",
    "plt.axhline(y = delta_f, color = 'brown')"
   ]
  },
  {
   "cell_type": "code",
   "execution_count": 146,
   "metadata": {},
   "outputs": [],
   "source": [
    "bins_a = np.linspace(0, 20, 40)\n",
    "bins_b = -bins_a[::-1]\n",
    "nbins = bins_a.size - 1"
   ]
  },
  {
   "cell_type": "code",
   "execution_count": 147,
   "metadata": {},
   "outputs": [],
   "source": [
    "rho_a = np.zeros(shape=(ts_values.size, nbins))\n",
    "coords_a = np.zeros(shape = (ts_values.size, nbins))\n",
    "for i, ts in enumerate(ts_values):\n",
    "    rho_a[i], be = np.histogram(a.beta*works_a[i], bins = bins_a, density = True)\n",
    "    coords_a[i] = (be[1:] + be[:-1]) / 2"
   ]
  },
  {
   "cell_type": "markdown",
   "metadata": {},
   "source": [
    "## Backward simulations"
   ]
  },
  {
   "cell_type": "markdown",
   "metadata": {},
   "source": [
    "* Initializing omega_0 = 2.0, omega_1 = 1.0\n",
    "* This is a backward / conjugate process of the above\n",
    "* process A : omega_A(t) = a + (b - a) * (t/ts)\n",
    "* process B : omega_B(t) = b + (a - b) * (t / ts) \n",
    "* = a - (a - b) + (a - b) * (t / ts)\n",
    "* = a + (a - b) * (1 - t / ts)\n",
    "* = a + (a - b) * ((ts - t) / ts)\n",
    "* = omega_a(ts - t)\n",
    "* Here a = 1.0, b = 2.0\n",
    "* Initializing the starting point of the simulation as ending point of (i, j) simulation of Proc. A"
   ]
  },
  {
   "cell_type": "code",
   "execution_count": 101,
   "metadata": {},
   "outputs": [],
   "source": [
    "#Nsim = 1000000\n",
    "#ts_values = np.logspace(0, 2, 5)\n",
    "\n",
    "works_b = np.zeros(shape = (ts_values.size, Nsim))\n",
    "for i, ts in enumerate(ts_values):\n",
    "    b = Work_Simulation(omega_0 = 2.0, omega_1 = 1.0, t_s = ts)\n",
    "    for j in range(Nsim):\n",
    "        b.y0 = final_phases[i, j]\n",
    "        b.simulate()\n",
    "        works_b[i, j] = b.w"
   ]
  },
  {
   "cell_type": "code",
   "execution_count": 115,
   "metadata": {},
   "outputs": [
    {
     "data": {
      "text/plain": [
       "-6.94099353255814e-07"
      ]
     },
     "execution_count": 115,
     "metadata": {},
     "output_type": "execute_result"
    }
   ],
   "source": [
    "works_b.max()*b.beta"
   ]
  },
  {
   "cell_type": "code",
   "execution_count": 116,
   "metadata": {},
   "outputs": [
    {
     "data": {
      "text/plain": [
       "-16.070582157744994"
      ]
     },
     "execution_count": 116,
     "metadata": {},
     "output_type": "execute_result"
    }
   ],
   "source": [
    "works_b.min()*b.beta"
   ]
  },
  {
   "cell_type": "code",
   "execution_count": 150,
   "metadata": {},
   "outputs": [],
   "source": [
    "rho_b = np.zeros(shape=(ts_values.size, nbins))\n",
    "coords_b = np.zeros(shape = (ts_values.size, nbins))\n",
    "for i, ts in enumerate(ts_values):\n",
    "    rho_b[i], be = np.histogram(b.beta*works_b[i], bins = bins_b, density = True)\n",
    "    coords_b[i] = (be[1:] + be[:-1]) / 2"
   ]
  },
  {
   "cell_type": "code",
   "execution_count": 119,
   "metadata": {},
   "outputs": [],
   "source": [
    "works_c = np.zeros(shape = (ts_values.size, Nsim))\n",
    "for i, ts in enumerate(ts_values):\n",
    "    c = Work_Simulation(omega_0 = 2.0, omega_1 = 1.0, t_s = ts)\n",
    "    for j in range(Nsim):\n",
    "        c.get_y0()\n",
    "        c.simulate()\n",
    "        works_c[i, j] = c.w"
   ]
  },
  {
   "cell_type": "code",
   "execution_count": 120,
   "metadata": {},
   "outputs": [
    {
     "data": {
      "text/plain": [
       "-1.7657332529717745e-07"
      ]
     },
     "execution_count": 120,
     "metadata": {},
     "output_type": "execute_result"
    }
   ],
   "source": [
    "works_c.max()*c.beta"
   ]
  },
  {
   "cell_type": "code",
   "execution_count": 133,
   "metadata": {},
   "outputs": [
    {
     "data": {
      "text/plain": [
       "-6.681163788213735"
      ]
     },
     "execution_count": 133,
     "metadata": {},
     "output_type": "execute_result"
    }
   ],
   "source": [
    "c.beta*works_c.min()"
   ]
  },
  {
   "cell_type": "code",
   "execution_count": 153,
   "metadata": {},
   "outputs": [],
   "source": [
    "bins_c = -bins_a[::-1]\n",
    "rho_c = np.zeros(shape=(ts_values.size, nbins))\n",
    "coords_c = np.zeros(shape = (ts_values.size, nbins))\n",
    "for i, ts in enumerate(ts_values):\n",
    "    rho_c[i], be = np.histogram(c.beta*works_c[i], bins = bins_c, density = True)\n",
    "    coords_c[i] = (be[1:] + be[:-1]) / 2"
   ]
  },
  {
   "cell_type": "code",
   "execution_count": 221,
   "metadata": {},
   "outputs": [
    {
     "data": {
      "text/plain": [
       "<matplotlib.legend.Legend at 0x7f850b2600d0>"
      ]
     },
     "execution_count": 221,
     "metadata": {},
     "output_type": "execute_result"
    },
    {
     "data": {
      "image/png": "[encoded data removed]",
      "text/plain": [
       "<Figure size 432x288 with 1 Axes>"
      ]
     },
     "metadata": {
      "needs_background": "light"
     },
     "output_type": "display_data"
    }
   ],
   "source": [
    "plt.plot(coords_a[0], rho_a[0], label = r'$\\rho_a(w)$')\n",
    "plt.plot(-coords_b[0], rho_b[0],'.', label = r'$\\rho_b(-w)$')\n",
    "plt.plot(-coords_c[0], rho_c[0], label = r'$\\rho_c(-w)$')\n",
    "plt.legend(loc='best', fontsize = 20)"
   ]
  },
  {
   "cell_type": "markdown",
   "metadata": {},
   "source": [
    "## Below plot was expected to be a gaussian\n",
    "### Attempting to validate CFT"
   ]
  },
  {
   "cell_type": "code",
   "execution_count": 204,
   "metadata": {},
   "outputs": [
    {
     "name": "stderr",
     "output_type": "stream",
     "text": [
      "<ipython-input-204-faa2bfd460c8>:1: RuntimeWarning: invalid value encountered in true_divide\n",
      "  expected_gauss = rho_a[0] / rho_b[0][::-1]\n"
     ]
    }
   ],
   "source": [
    "expected_gauss = rho_a[0] / rho_b[0][::-1]"
   ]
  },
  {
   "cell_type": "code",
   "execution_count": 205,
   "metadata": {},
   "outputs": [
    {
     "data": {
      "text/plain": [
       "<matplotlib.legend.Legend at 0x7f84880c4af0>"
      ]
     },
     "execution_count": 205,
     "metadata": {},
     "output_type": "execute_result"
    },
    {
     "data": {
      "image/png": "[encoded data removed]",
      "text/plain": [
       "<Figure size 432x288 with 1 Axes>"
      ]
     },
     "metadata": {
      "needs_background": "light"
     },
     "output_type": "display_data"
    }
   ],
   "source": [
    "plt.plot(coords_a[0], expected_gauss, label = r'$\\frac{\\rho_a(w)}{\\rho_b(-w)}$')\n",
    "plt.legend(loc='best', fontsize = 20)"
   ]
  },
  {
   "cell_type": "code",
   "execution_count": 212,
   "metadata": {},
   "outputs": [
    {
     "name": "stderr",
     "output_type": "stream",
     "text": [
      "<ipython-input-212-8b115aa66aca>:1: RuntimeWarning: divide by zero encountered in true_divide\n",
      "  expected_gauss = rho_a[0] / rho_c[0][::-1]\n",
      "<ipython-input-212-8b115aa66aca>:1: RuntimeWarning: invalid value encountered in true_divide\n",
      "  expected_gauss = rho_a[0] / rho_c[0][::-1]\n"
     ]
    }
   ],
   "source": [
    "expected_gauss = rho_a[0] / rho_c[0][::-1]"
   ]
  },
  {
   "cell_type": "code",
   "execution_count": 213,
   "metadata": {},
   "outputs": [
    {
     "data": {
      "text/plain": [
       "1.039720770839918"
      ]
     },
     "execution_count": 213,
     "metadata": {},
     "output_type": "execute_result"
    }
   ],
   "source": [
    "np.log(a.omega_1/a.omega_0)/a.beta"
   ]
  },
  {
   "cell_type": "code",
   "execution_count": 214,
   "metadata": {},
   "outputs": [],
   "source": [
    "theory = np.exp(np.log(a.omega_1/a.omega_0)/a.beta + a.beta*coords_a[0])"
   ]
  },
  {
   "cell_type": "code",
   "execution_count": 215,
   "metadata": {},
   "outputs": [
    {
     "data": {
      "text/plain": [
       "<matplotlib.legend.Legend at 0x7f8498c745e0>"
      ]
     },
     "execution_count": 215,
     "metadata": {},
     "output_type": "execute_result"
    },
    {
     "data": {
      "image/png": "[encoded data removed]",
      "text/plain": [
       "<Figure size 432x288 with 1 Axes>"
      ]
     },
     "metadata": {
      "needs_background": "light"
     },
     "output_type": "display_data"
    }
   ],
   "source": [
    "plt.plot(coords_a[0], expected_gauss, label = r'$\\frac{\\rho_a(w)}{\\rho_c(-w)}$')\n",
    "plt.plot(coords_a[0], theory, '.', label = r'$\\exp{(-\\Delta F + \\beta w)}$')\n",
    "plt.xlim(0,7)\n",
    "plt.ylim(0,500)\n",
    "plt.legend(loc='best', fontsize = 20)"
   ]
  },
  {
   "cell_type": "code",
   "execution_count": 216,
   "metadata": {},
   "outputs": [],
   "source": [
    "theory = np.log(a.omega_1/a.omega_0)/a.beta + a.beta*coords_a[0]"
   ]
  },
  {
   "cell_type": "code",
   "execution_count": 220,
   "metadata": {},
   "outputs": [
    {
     "data": {
      "text/plain": [
       "<matplotlib.legend.Legend at 0x7f850b2606a0>"
      ]
     },
     "execution_count": 220,
     "metadata": {},
     "output_type": "execute_result"
    },
    {
     "data": {
      "image/png": "[encoded data removed]",
      "text/plain": [
       "<Figure size 432x288 with 1 Axes>"
      ]
     },
     "metadata": {
      "needs_background": "light"
     },
     "output_type": "display_data"
    }
   ],
   "source": [
    "plt.plot(coords_a[0], np.log(expected_gauss), label = r'$\\ln\\frac{\\rho_a(w)}{\\rho_c(-w)}$')\n",
    "plt.plot(coords_a[0], theory, '.', label = r'$-\\Delta F + \\beta w$')\n",
    "plt.xlim(0,7)\n",
    "plt.legend(loc='best', fontsize = 20)"
   ]
  },
  {
   "cell_type": "code",
   "execution_count": null,
   "metadata": {},
   "outputs": [],
   "source": []
  }
 ],
 "metadata": {
  "kernelspec": {
   "display_name": "openmm",
   "language": "python",
   "name": "openmm"
  },
  "language_info": {
   "codemirror_mode": {
    "name": "ipython",
    "version": 3
   },
   "file_extension": ".py",
   "mimetype": "text/x-python",
   "name": "python",
   "nbconvert_exporter": "python",
   "pygments_lexer": "ipython3",
   "version": "3.8.10"
  }
 },
 "nbformat": 4,
 "nbformat_minor": 4
}
