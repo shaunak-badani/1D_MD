{
 "cells": [
  {
   "cell_type": "code",
   "execution_count": 1,
   "metadata": {},
   "outputs": [],
   "source": [
    "import numpy as np"
   ]
  },
  {
   "cell_type": "code",
   "execution_count": 181,
   "metadata": {},
   "outputs": [],
   "source": [
    "kB = 1"
   ]
  },
  {
   "cell_type": "code",
   "execution_count": 204,
   "metadata": {},
   "outputs": [],
   "source": [
    "class NoseHoover():\n",
    "\n",
    "    def __init__(self, dt, M = 1, num_particles = 1, T = 1):\n",
    "        self.n_c = 1\n",
    "        self.M = M\n",
    "        self.v_epsilon = np.zeros(M)\n",
    "        self.epsilon = np.zeros(M)\n",
    "        self.Q = np.full(M, 0.1)\n",
    "        self.dt = dt\n",
    "        self.T = T\n",
    "        self.num_particles = num_particles\n",
    "\n",
    "    \n",
    "    def h_prime(self, r, v, m):\n",
    "        total_system_energy = U(r).sum() + 0.5 * np.sum(m * v**2).item()\n",
    "#         total_system_energy = U(r) + 0.5 * np.sum(m * v**2).item()\n",
    "        total_surrounding_energy = (self.num_particles * self.epsilon[0]) * kB * self.T + 0.5 * np.sum(self.Q * self.v_epsilon**2)\n",
    "        return total_system_energy + total_surrounding_energy\n",
    "    \n",
    "    def step(self, m, v):\n",
    "        KE = 0.5 * np.sum(m * v**2)\n",
    "        T = self.T\n",
    "        N_f = self.num_particles\n",
    "        M = self.M\n",
    "        delta_ts = self.dt / self.n_c\n",
    "        SCALE = 1.0\n",
    "        for i in range(self.n_c):\n",
    "            \n",
    "            \n",
    "            G_1 = (2 * KE - N_f * kB * T) / self.Q[0]\n",
    "            self.v_epsilon[0] = self.v_epsilon[0] + (delta_ts / 4) * G_1\n",
    "            \n",
    "            \n",
    "\n",
    "            SCALE = SCALE * (np.exp(-1 * delta_ts * self.v_epsilon[0] / 2))\n",
    "            \n",
    "            KE = KE * np.exp(-1 * delta_ts * self.v_epsilon[0])\n",
    "            \n",
    "            for i in range(0, M):\n",
    "                self.epsilon[i] = self.epsilon[i] + (delta_ts / 2) * self.v_epsilon[i]\n",
    "            \n",
    "            \n",
    "\n",
    "            \n",
    "            G_1 = (2 * KE - N_f * kB * T) / self.Q[0]\n",
    "            \n",
    "            \n",
    "            self.v_epsilon[0] = self.v_epsilon[0] + (delta_ts / 4) * G_1\n",
    "        \n",
    "        v_new = v * SCALE\n",
    "        return v_new\n",
    "        "
   ]
  },
  {
   "cell_type": "code",
   "execution_count": 177,
   "metadata": {},
   "outputs": [],
   "source": [
    "def T(m, v, N):\n",
    "    return np.sum(m * v**2).item() / (kB * N)  "
   ]
  },
  {
   "cell_type": "code",
   "execution_count": 145,
   "metadata": {},
   "outputs": [],
   "source": [
    "def U(r):\n",
    "    return 2 * (r  - 2)**2\n",
    "\n",
    "def F(r):\n",
    "    return -4*(r - 2)"
   ]
  },
  {
   "cell_type": "markdown",
   "metadata": {},
   "source": [
    "# n_p = 1"
   ]
  },
  {
   "cell_type": "code",
   "execution_count": 118,
   "metadata": {},
   "outputs": [],
   "source": [
    "m = np.ones((1))\n",
    "\n",
    "dt = 1e-3\n",
    "v = np.ones((1, 1)) + 1\n",
    "r = np.ones((1, 1)) + 7"
   ]
  },
  {
   "cell_type": "code",
   "execution_count": 119,
   "metadata": {},
   "outputs": [],
   "source": [
    "v = np.ones((1, 1)) + 1\n",
    "r = np.ones((1, 1)) + 7\n",
    "nht = NoseHoover(dt)\n",
    "h_primes = [nht.h_prime(r, v, m)]\n",
    "for _ in range(10000):\n",
    "    v = nht.step(m, v)\n",
    "\n",
    "    v = v + (F(r) / (2 * m)) * dt\n",
    "    r = r + v * dt\n",
    "    v = v + (F(r) / (2 * m)) * dt\n",
    "\n",
    "    v = nht.step(m, v)\n",
    "    h_primes.append(nht.h_prime(r, v, m))"
   ]
  },
  {
   "cell_type": "code",
   "execution_count": 8,
   "metadata": {},
   "outputs": [
    {
     "data": {
      "text/plain": [
       "[<matplotlib.lines.Line2D at 0x1461b3983860>]"
      ]
     },
     "execution_count": 8,
     "metadata": {},
     "output_type": "execute_result"
    },
    {
     "data": {
      "image/png": "[encoded data removed]",
      "text/plain": [
       "<Figure size 432x288 with 1 Axes>"
      ]
     },
     "metadata": {
      "needs_background": "light"
     },
     "output_type": "display_data"
    }
   ],
   "source": [
    "import matplotlib.pyplot as plt\n",
    "plt.plot(h_primes)\n",
    "\n",
    "y = np.ones_like(h_primes)\n",
    "y[:] = 2\n",
    "z = np.ones_like(h_primes)\n",
    "z[:] = 73.5\n",
    "# plt.plot(y)\n",
    "plt.plot(z)"
   ]
  },
  {
   "cell_type": "markdown",
   "metadata": {},
   "source": [
    "## n_p = 10"
   ]
  },
  {
   "cell_type": "code",
   "execution_count": 212,
   "metadata": {},
   "outputs": [
    {
     "name": "stdout",
     "output_type": "stream",
     "text": [
      "1.0\n"
     ]
    }
   ],
   "source": [
    "nParticles = 10\n",
    "m = np.ones((nParticles, 1))\n",
    "# r = np.random.normal(2.5, 0.5, size = (nParticles, 1))\n",
    "# v = np.random.normal(0, 1, size = (nParticles, 1))\n",
    "r = np.ones((nParticles, 1))\n",
    "v = np.ones((nParticles, 1))\n",
    "print(T(m, v, nParticles))"
   ]
  },
  {
   "cell_type": "code",
   "execution_count": 213,
   "metadata": {},
   "outputs": [],
   "source": [
    "nht = NoseHoover(dt, num_particles = nParticles, T = 1)\n",
    "h_primes = [nht.h_prime(r, v, m)]\n",
    "temperatures = [T(m, v, nParticles)]"
   ]
  },
  {
   "cell_type": "code",
   "execution_count": 214,
   "metadata": {},
   "outputs": [],
   "source": [
    "for _ in range(10000):\n",
    "    v = nht.step(m, v)\n",
    "#     print(v)\n",
    "    v = v + (F(r) / (2 * m)) * dt\n",
    "    r = r + v * dt\n",
    "    v = v + (F(r) / (2 * m)) * dt\n",
    "\n",
    "    v = nht.step(m, v)\n",
    "    h_primes.append(nht.h_prime(r, v, m))\n",
    "    temperatures.append(T(m, v, nParticles))"
   ]
  },
  {
   "cell_type": "code",
   "execution_count": 215,
   "metadata": {},
   "outputs": [
    {
     "name": "stdout",
     "output_type": "stream",
     "text": [
      "44.99886809890978\n"
     ]
    }
   ],
   "source": [
    "print(nht.h_prime(r, v, m))"
   ]
  },
  {
   "cell_type": "code",
   "execution_count": 216,
   "metadata": {},
   "outputs": [
    {
     "data": {
      "text/plain": [
       "[<matplotlib.lines.Line2D at 0x1461b1d3f668>]"
      ]
     },
     "execution_count": 216,
     "metadata": {},
     "output_type": "execute_result"
    },
    {
     "data": {
      "image/png": "[encoded data removed]",
      "text/plain": [
       "<Figure size 432x288 with 1 Axes>"
      ]
     },
     "metadata": {
      "needs_background": "light"
     },
     "output_type": "display_data"
    }
   ],
   "source": [
    "import matplotlib.pyplot as plt\n",
    "plt.plot(h_primes)\n",
    "\n",
    "\n",
    "y = np.ones_like(h_primes)\n",
    "y[:] = 20\n",
    "plt.plot(y)\n",
    "# # z = np.ones_like(h_primes)\n",
    "# # z[:] = 3.1\n",
    "\n",
    "# plt.plot(z)"
   ]
  },
  {
   "cell_type": "code",
   "execution_count": 217,
   "metadata": {},
   "outputs": [
    {
     "data": {
      "text/plain": [
       "[<matplotlib.lines.Line2D at 0x1461b19b7710>]"
      ]
     },
     "execution_count": 217,
     "metadata": {},
     "output_type": "execute_result"
    },
    {
     "data": {
      "image/png": "[encoded data removed]",
      "text/plain": [
       "<Figure size 432x288 with 1 Axes>"
      ]
     },
     "metadata": {
      "needs_background": "light"
     },
     "output_type": "display_data"
    }
   ],
   "source": [
    "plt.plot(temperatures)"
   ]
  },
  {
   "cell_type": "code",
   "execution_count": 239,
   "metadata": {},
   "outputs": [
    {
     "name": "stdout",
     "output_type": "stream",
     "text": [
      "0.038535452080144944\n"
     ]
    }
   ],
   "source": [
    "print(temperatures[-1000])"
   ]
  },
  {
   "cell_type": "markdown",
   "metadata": {},
   "source": [
    "# Leach 1D"
   ]
  },
  {
   "cell_type": "code",
   "execution_count": 218,
   "metadata": {},
   "outputs": [],
   "source": [
    "nParticles = 10\n",
    "m = np.ones((nParticles, 1))\n",
    "r = np.ones((nParticles, 1))\n",
    "v = np.ones((nParticles, 1))"
   ]
  },
  {
   "cell_type": "code",
   "execution_count": 219,
   "metadata": {},
   "outputs": [],
   "source": [
    "def __pot_energy(x):\n",
    "    if x < -1.25:\n",
    "        return (4 * (np.pi**2)) * (x + 1.25)**2\n",
    "\n",
    "    if x >= -1.25 and x <= -0.25:\n",
    "        return 2 * (1 + np.sin(2 * np.pi * x))\n",
    "\n",
    "    if x >= -0.25 and x <= 0.75:\n",
    "        return 3 * (1 + np.sin(2 * np.pi * x))\n",
    "\n",
    "    if x >= 0.75 and x <= 1.75:\n",
    "        return 4 * (1 + np.sin(2 * np.pi * x))\n",
    "\n",
    "    # if x >= 1.75:\n",
    "    return 64 * ((x - 1.75) ** 2)\n",
    "\n",
    "def U(x):\n",
    "    reduced_x = x.squeeze()\n",
    "    pot = 0\n",
    "    for i in reduced_x:\n",
    "        pot += __pot_energy(i)\n",
    "    return pot"
   ]
  },
  {
   "cell_type": "code",
   "execution_count": 220,
   "metadata": {},
   "outputs": [],
   "source": [
    "def __force(x):\n",
    "    if x <= -1.25:\n",
    "        return (-8 * (np.pi)**2) * (x + 1.25)\n",
    "\n",
    "    if x > -1.25 and x <= -0.25:\n",
    "        return -4 * np.pi * np.cos(2 * np.pi * x)\n",
    "\n",
    "    if x >= -0.25 and x <= 0.75:\n",
    "        return -6 * np.pi * np.cos(2 * np.pi * x)\n",
    "\n",
    "    if x >= 0.75 and x <= 1.75:\n",
    "        return -8 * np.pi * np.cos(2 * np.pi * x)\n",
    "\n",
    "#     if x >= 1.75:\n",
    "    return -(128) * (x - 1.75)\n",
    "\n",
    "def F(x):\n",
    "    forces = []\n",
    "    reduced_x = x.squeeze()\n",
    "    for particle in reduced_x:\n",
    "        f = __force(particle)\n",
    "        forces.append(f)\n",
    "    F_x = np.array(forces).reshape(x.shape)\n",
    "    return F_x"
   ]
  },
  {
   "cell_type": "code",
   "execution_count": 221,
   "metadata": {},
   "outputs": [],
   "source": [
    "nht = NoseHoover(dt, num_particles = nParticles)\n",
    "h_primes = [nht.h_prime(r, v, m)]\n",
    "temperatures = [T(m, v, nParticles)]"
   ]
  },
  {
   "cell_type": "code",
   "execution_count": 222,
   "metadata": {},
   "outputs": [
    {
     "name": "stdout",
     "output_type": "stream",
     "text": [
      "[44.99999999999999]\n"
     ]
    }
   ],
   "source": [
    "print(h_primes)"
   ]
  },
  {
   "cell_type": "code",
   "execution_count": 223,
   "metadata": {},
   "outputs": [],
   "source": [
    "for _ in range(10000):\n",
    "    v = nht.step(m, v)\n",
    "\n",
    "    v = v + (F(r) / 2) * dt\n",
    "    r = r + v * dt\n",
    "    v = v + (F(r) / 2) * dt\n",
    "\n",
    "    v = nht.step(m, v)\n",
    "    h_primes.append(nht.h_prime(r, v, m))\n",
    "    temperatures.append(T(m, v, nParticles))"
   ]
  },
  {
   "cell_type": "code",
   "execution_count": 224,
   "metadata": {},
   "outputs": [
    {
     "data": {
      "text/plain": [
       "[<matplotlib.lines.Line2D at 0x1461b1920b70>]"
      ]
     },
     "execution_count": 224,
     "metadata": {},
     "output_type": "execute_result"
    },
    {
     "data": {
      "image/png": "[encoded data removed]",
      "text/plain": [
       "<Figure size 432x288 with 1 Axes>"
      ]
     },
     "metadata": {
      "needs_background": "light"
     },
     "output_type": "display_data"
    }
   ],
   "source": [
    "plt.plot(h_primes)\n",
    "# plt.axhline(y = 56.5)"
   ]
  },
  {
   "cell_type": "code",
   "execution_count": 225,
   "metadata": {},
   "outputs": [
    {
     "data": {
      "text/plain": [
       "[<matplotlib.lines.Line2D at 0x1461b1955b38>]"
      ]
     },
     "execution_count": 225,
     "metadata": {},
     "output_type": "execute_result"
    },
    {
     "data": {
      "image/png": "[encoded data removed]",
      "text/plain": [
       "<Figure size 432x288 with 1 Axes>"
      ]
     },
     "metadata": {
      "needs_background": "light"
     },
     "output_type": "display_data"
    }
   ],
   "source": [
    "plt.plot(temperatures)"
   ]
  }
 ],
 "metadata": {
  "kernelspec": {
   "display_name": "MD",
   "language": "python",
   "name": "md"
  },
  "language_info": {
   "codemirror_mode": {
    "name": "ipython",
    "version": 3
   },
   "file_extension": ".py",
   "mimetype": "text/x-python",
   "name": "python",
   "nbconvert_exporter": "python",
   "pygments_lexer": "ipython3",
   "version": "3.6.12"
  }
 },
 "nbformat": 4,
 "nbformat_minor": 2
}
