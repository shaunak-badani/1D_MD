{
 "cells": [
  {
   "cell_type": "code",
   "execution_count": 166,
   "id": "07d418a8",
   "metadata": {},
   "outputs": [],
   "source": [
    "import numpy as np\n",
    "import matplotlib.pyplot as plt\n",
    "import pandas as pd\n",
    "import os"
   ]
  },
  {
   "cell_type": "markdown",
   "id": "7aba417f",
   "metadata": {},
   "source": [
    "### RENS Analysis"
   ]
  },
  {
   "cell_type": "markdown",
   "id": "7eaa2848",
   "metadata": {},
   "source": [
    "* Plot work distribution"
   ]
  },
  {
   "cell_type": "code",
   "execution_count": 263,
   "id": "9f5c3642",
   "metadata": {},
   "outputs": [],
   "source": [
    "file_loc = '../../runs/rens_2'"
   ]
  },
  {
   "cell_type": "code",
   "execution_count": 264,
   "id": "d3d3818a",
   "metadata": {},
   "outputs": [],
   "source": [
    "exchanges = pd.read_csv(os.path.join(file_loc, 'exchanges.txt'), sep = ',')"
   ]
  },
  {
   "cell_type": "code",
   "execution_count": 265,
   "id": "57bd37a2",
   "metadata": {},
   "outputs": [],
   "source": [
    "W_A = exchanges['W_A']\n",
    "W_B = exchanges['W_B']"
   ]
  },
  {
   "cell_type": "code",
   "execution_count": 266,
   "id": "869c2a9c",
   "metadata": {},
   "outputs": [],
   "source": [
    "def pot_energy(x):\n",
    "    if x < -1.25:\n",
    "        return (4 * (np.pi**2)) * (x + 1.25)**2\n",
    "    \n",
    "    if x >= -1.25 and x <= -0.25:\n",
    "        return 2 * (1 + np.sin(2 * np.pi * x))\n",
    "        \n",
    "    if x >= -0.25 and x <= 0.75:\n",
    "        return 3 * (1 + np.sin(2 * np.pi * x))\n",
    "                  \n",
    "    if x >= 0.75 and x <= 1.75:\n",
    "        return 4 * (1 + np.sin(2 * np.pi * x))\n",
    "                  \n",
    "    # if x >= 1.75:\n",
    "    return 8 * (np.pi**2) * ((x - 7 / 4) ** 2)"
   ]
  },
  {
   "cell_type": "code",
   "execution_count": 267,
   "id": "3cb53d9a",
   "metadata": {},
   "outputs": [],
   "source": [
    "def free_energy(N, T):\n",
    "    from scipy.integrate import quad\n",
    "    kB = 1\n",
    "    beta = 1 / (kB * T)\n",
    "    Z_single_particle = quad(lambda x : np.exp(-beta * pot_energy(x)), -np.inf, np.inf)[0]\n",
    "    f = -N * np.log(Z_single_particle)\n",
    "    f -= (N/\n",
    "          2) * np.log(2 * np.pi / beta)\n",
    "    return f"
   ]
  },
  {
   "cell_type": "code",
   "execution_count": 268,
   "id": "35c8d0d9",
   "metadata": {},
   "outputs": [],
   "source": [
    "f_A = free_energy(10, 2.0)\n",
    "f_B = free_energy(10, 0.3)"
   ]
  },
  {
   "cell_type": "code",
   "execution_count": 269,
   "id": "cd3ebb3f",
   "metadata": {},
   "outputs": [],
   "source": [
    "free = f_B - f_A"
   ]
  },
  {
   "cell_type": "code",
   "execution_count": 270,
   "id": "b20cc171",
   "metadata": {},
   "outputs": [
    {
     "data": {
      "image/png": "[encoded data removed]",
      "text/plain": [
       "<Figure size 576x432 with 1 Axes>"
      ]
     },
     "metadata": {
      "needs_background": "light"
     },
     "output_type": "display_data"
    }
   ],
   "source": [
    "fig = plt.figure(figsize = (8, 6))\n",
    "p, be = np.histogram(W_A, bins = 50, density = True)\n",
    "coords = (be[1:] + be[:-1])/2\n",
    "plt.plot(coords, p, lw = 3, label = r'$\\rho_A (w)$')\n",
    "\n",
    "p, be = np.histogram(W_B, bins = 50, density = True)\n",
    "coords = (be[1:] + be[:-1]) / 2\n",
    "plt.plot(-coords, p, lw = 3, label = r'$\\rho_B (-w)$')\n",
    "\n",
    "plt.axvline(x = free, color = 'red', lw = 3, label = r'$\\Delta F$')\n",
    "plt.legend(loc = 'best', fontsize = 20)\n",
    "plt.xlabel(r'$w$', fontsize = 15)\n",
    "y = plt.ylabel(r'$\\rho (w)$', fontsize = 20)\n",
    "y.set_rotation(0)"
   ]
  },
  {
   "cell_type": "markdown",
   "id": "db58444c",
   "metadata": {},
   "source": [
    "### Obtaining following values for all RENS simulations performed : \n",
    "* w_mean\n",
    "* \\<p_acc\\>\n",
    "* X = $\\tau$ / $\\tau_{eq}$\n",
    "* t_c = (1 / $\\sigma^2$) * c(t), where c(t) = Autocorrelation of $n_4(t)$\n",
    "* f_sw = X / (1 + X)\n",
    "* M = no of replicas\n",
    "* t* = (1 + X) * M * t_c"
   ]
  },
  {
   "cell_type": "markdown",
   "id": "c50d5c28",
   "metadata": {},
   "source": [
    "* w_mean, p_acc"
   ]
  },
  {
   "cell_type": "code",
   "execution_count": 271,
   "id": "21f2f1f2",
   "metadata": {},
   "outputs": [],
   "source": [
    "w = W_A + W_B\n",
    "w_mean = w.mean()"
   ]
  },
  {
   "cell_type": "code",
   "execution_count": 272,
   "id": "cf0d6c5a",
   "metadata": {},
   "outputs": [],
   "source": [
    "p_acc = exchanges['Exchanged'].mean()"
   ]
  },
  {
   "cell_type": "code",
   "execution_count": 273,
   "id": "a3119273",
   "metadata": {},
   "outputs": [
    {
     "data": {
      "text/plain": [
       "(11.770731710881225, 0.024087024087024088)"
      ]
     },
     "execution_count": 273,
     "metadata": {},
     "output_type": "execute_result"
    }
   ],
   "source": [
    "w_mean, p_acc"
   ]
  },
  {
   "cell_type": "markdown",
   "id": "c003c970",
   "metadata": {},
   "source": [
    "* X, tau_eq, f_sw"
   ]
  },
  {
   "cell_type": "code",
   "execution_count": 294,
   "id": "d7c78111",
   "metadata": {},
   "outputs": [],
   "source": [
    "tau = 2.0\n",
    "dt = 1e-3\n",
    "num_steps = int(1e7)\n",
    "final_time = num_steps * dt\n",
    "k = exchanges['Time'].to_numpy()"
   ]
  },
  {
   "cell_type": "code",
   "execution_count": 295,
   "id": "2437847f",
   "metadata": {},
   "outputs": [],
   "source": [
    "ending_points = k - tau\n",
    "ending_points = np.insert(ending_points, ending_points.size, final_time)\n",
    "k = np.insert(k, 0, 0)"
   ]
  },
  {
   "cell_type": "code",
   "execution_count": 300,
   "id": "51c1125b",
   "metadata": {},
   "outputs": [],
   "source": [
    "tau_eq = ending_points - k\n",
    "tau_eq = tau_eq.mean()"
   ]
  },
  {
   "cell_type": "code",
   "execution_count": 301,
   "id": "e75cd0e3",
   "metadata": {},
   "outputs": [],
   "source": [
    "X = tau / tau_eq\n",
    "f_sw = X / (1 + X)"
   ]
  },
  {
   "cell_type": "code",
   "execution_count": 302,
   "id": "9b40f536",
   "metadata": {},
   "outputs": [
    {
     "data": {
      "text/plain": [
       "(0.3468893078373283, 5.765527950310559, 0.2575484903019396)"
      ]
     },
     "execution_count": 302,
     "metadata": {},
     "output_type": "execute_result"
    }
   ],
   "source": [
    "X, tau_eq, f_sw"
   ]
  },
  {
   "cell_type": "markdown",
   "id": "e630d0df",
   "metadata": {},
   "source": [
    "* t_c, t_star"
   ]
  },
  {
   "cell_type": "code",
   "execution_count": 212,
   "id": "a55f8993",
   "metadata": {},
   "outputs": [],
   "source": [
    "pos = np.loadtxt(os.path.join(file_loc, '0/p.txt'))\n",
    "# ind = np.where(pos[:, -1] == 0)\n",
    "steps = pos[:, 0]\n",
    "mode = pos[:, -1]\n",
    "pos = pos[:, 1:-1]"
   ]
  },
  {
   "cell_type": "code",
   "execution_count": 227,
   "id": "c360cefb",
   "metadata": {},
   "outputs": [],
   "source": [
    "ind = mode == 0\n",
    "n_4t = np.sum(pos[ind, :] >= 1.25, axis = 1)"
   ]
  },
  {
   "cell_type": "code",
   "execution_count": 232,
   "id": "68bbe5e3",
   "metadata": {},
   "outputs": [],
   "source": [
    "def auto_corr(x, tau):\n",
    "    len_data = len(x[tau:])\n",
    "    mean = x.mean()\n",
    "    num = (x[:len_data] * x[tau:tau + len_data]).mean() - mean**2\n",
    "    var = (x**2).mean() - (mean)**2\n",
    "    return num / var"
   ]
  },
  {
   "cell_type": "code",
   "execution_count": 233,
   "id": "474a3c9f",
   "metadata": {},
   "outputs": [],
   "source": [
    "c_t = np.array([auto_corr(n_4t, i) for i in range(n_4t.size)])"
   ]
  },
  {
   "cell_type": "code",
   "execution_count": 247,
   "id": "5c90ac5d",
   "metadata": {},
   "outputs": [],
   "source": [
    "t_c = c_t.sum()"
   ]
  },
  {
   "cell_type": "code",
   "execution_count": 250,
   "id": "c00ada16",
   "metadata": {},
   "outputs": [],
   "source": [
    "t_star = (1 + X) * t_c"
   ]
  },
  {
   "cell_type": "code",
   "execution_count": 252,
   "id": "2f6eb1d8",
   "metadata": {},
   "outputs": [
    {
     "data": {
      "text/plain": [
       "(4114.552111781578, 4114.552111781578)"
      ]
     },
     "execution_count": 252,
     "metadata": {},
     "output_type": "execute_result"
    }
   ],
   "source": [
    "t_c, t_star"
   ]
  },
  {
   "cell_type": "markdown",
   "id": "d4b37625",
   "metadata": {},
   "source": [
    "## Multiple probs"
   ]
  },
  {
   "cell_type": "code",
   "execution_count": 313,
   "id": "afaedd8f",
   "metadata": {},
   "outputs": [],
   "source": [
    "pos = np.loadtxt(os.path.join(file_loc, '0/p.txt'))\n",
    "ind = np.where(pos[:, -1] == 0)[0]\n",
    "steps = pos[ind, 0]\n",
    "mode = pos[ind, -1]\n",
    "pos = pos[ind, 1:-1]"
   ]
  },
  {
   "cell_type": "code",
   "execution_count": 350,
   "id": "29e0bd70",
   "metadata": {},
   "outputs": [],
   "source": [
    "interval = 10000"
   ]
  },
  {
   "cell_type": "code",
   "execution_count": 351,
   "id": "f53e3f4b",
   "metadata": {},
   "outputs": [],
   "source": [
    "bins = [-np.inf, -0.75, 0.25, 1.25, np.inf]\n"
   ]
  },
  {
   "cell_type": "code",
   "execution_count": 368,
   "id": "119c7193",
   "metadata": {},
   "outputs": [],
   "source": [
    "boltzmann_integrand = np.empty(len(bins) - 1)"
   ]
  },
  {
   "cell_type": "code",
   "execution_count": 369,
   "id": "9363545a",
   "metadata": {},
   "outputs": [],
   "source": [
    "from scipy.integrate import quad\n",
    "beta = 1 / 0.3\n",
    "for i in wells:\n",
    "    boltzmann_integrand[i - 1] = quad(lambda x: np.exp(-beta * pot_energy(x)), bins[i-1], bins[i])[0]"
   ]
  },
  {
   "cell_type": "code",
   "execution_count": 371,
   "id": "4be885e4",
   "metadata": {},
   "outputs": [],
   "source": [
    "boltzmann_integrand /= boltzmann_integrand.sum()"
   ]
  },
  {
   "cell_type": "code",
   "execution_count": 372,
   "id": "8c171897",
   "metadata": {},
   "outputs": [
    {
     "data": {
      "text/plain": [
       "array([0.29579892, 0.27052501, 0.22563893, 0.20803714])"
      ]
     },
     "execution_count": 372,
     "metadata": {},
     "output_type": "execute_result"
    }
   ],
   "source": [
    "boltzmann_integrand"
   ]
  },
  {
   "cell_type": "code",
   "execution_count": null,
   "id": "6c46c11c",
   "metadata": {},
   "outputs": [],
   "source": []
  },
  {
   "cell_type": "code",
   "execution_count": 375,
   "id": "7bf4b2b9",
   "metadata": {},
   "outputs": [
    {
     "ename": "IndexError",
     "evalue": "index 80000 is out of bounds for axis 0 with size 74246",
     "output_type": "error",
     "traceback": [
      "\u001b[0;31m---------------------------------------------------------------------------\u001b[0m",
      "\u001b[0;31mIndexError\u001b[0m                                Traceback (most recent call last)",
      "\u001b[0;32m<ipython-input-375-e3c0934c0322>\u001b[0m in \u001b[0;36m<module>\u001b[0;34m\u001b[0m\n\u001b[1;32m     10\u001b[0m     \u001b[0mi\u001b[0m \u001b[0;34m+=\u001b[0m \u001b[0;36m1\u001b[0m\u001b[0;34m\u001b[0m\u001b[0;34m\u001b[0m\u001b[0m\n\u001b[1;32m     11\u001b[0m     \u001b[0mh\u001b[0m \u001b[0;34m+=\u001b[0m \u001b[0minterval\u001b[0m\u001b[0;34m\u001b[0m\u001b[0;34m\u001b[0m\u001b[0m\n\u001b[0;32m---> 12\u001b[0;31m     \u001b[0mt\u001b[0m\u001b[0;34m.\u001b[0m\u001b[0mappend\u001b[0m\u001b[0;34m(\u001b[0m\u001b[0msteps\u001b[0m\u001b[0;34m[\u001b[0m\u001b[0mh\u001b[0m\u001b[0;34m]\u001b[0m\u001b[0;34m)\u001b[0m\u001b[0;34m\u001b[0m\u001b[0;34m\u001b[0m\u001b[0m\n\u001b[0m\u001b[1;32m     13\u001b[0m \u001b[0ml\u001b[0m \u001b[0;34m=\u001b[0m \u001b[0mnp\u001b[0m\u001b[0;34m.\u001b[0m\u001b[0marray\u001b[0m\u001b[0;34m(\u001b[0m\u001b[0ml\u001b[0m\u001b[0;34m)\u001b[0m\u001b[0;34m\u001b[0m\u001b[0;34m\u001b[0m\u001b[0m\n\u001b[1;32m     14\u001b[0m \u001b[0mcolors\u001b[0m \u001b[0;34m=\u001b[0m \u001b[0;34m[\u001b[0m\u001b[0;34m'r'\u001b[0m\u001b[0;34m,\u001b[0m \u001b[0;34m'g'\u001b[0m\u001b[0;34m,\u001b[0m \u001b[0;34m'b'\u001b[0m\u001b[0;34m,\u001b[0m \u001b[0;34m'm'\u001b[0m\u001b[0;34m]\u001b[0m\u001b[0;34m\u001b[0m\u001b[0;34m\u001b[0m\u001b[0m\n",
      "\u001b[0;31mIndexError\u001b[0m: index 80000 is out of bounds for axis 0 with size 74246"
     ]
    }
   ],
   "source": [
    "h = interval\n",
    "i = 0\n",
    "l = []\n",
    "t = []\n",
    "while h < pos.shape[0]:\n",
    "    p, _ = np.histogram(pos[:h, 0], bins = bins)\n",
    "    p = p.astype('float')\n",
    "    p /= p.sum()\n",
    "    l.append(p)\n",
    "    i += 1\n",
    "    h += interval\n",
    "    t.append(steps[h])\n",
    "l = np.array(l)\n",
    "colors = ['r', 'g', 'b', 'm']\n",
    "markers=[\"+\", \"x\", \"o\", \"s\"]\n",
    "\n",
    "for i in range(4):\n",
    "    plt.scatter(t, l[:, i], marker = markers[i], color=colors[i])\n",
    "    plt.axhline(y = boltzmann_integrand[i], color = colors[i])\n",
    "\n",
    "plt.xlabel('Time (s)')\n",
    "_ = plt.ylabel('Prob.')\n",
    "_.set_rotation(0)"
   ]
  },
  {
   "cell_type": "code",
   "execution_count": 376,
   "id": "77e5fc9b",
   "metadata": {},
   "outputs": [
    {
     "data": {
      "text/plain": [
       "array([0.0000e+00, 1.0000e-01, 2.0000e-01, ..., 9.9997e+03, 9.9998e+03,\n",
       "       9.9999e+03])"
      ]
     },
     "execution_count": 376,
     "metadata": {},
     "output_type": "execute_result"
    }
   ],
   "source": [
    "steps"
   ]
  },
  {
   "cell_type": "code",
   "execution_count": null,
   "id": "cd88dd84",
   "metadata": {},
   "outputs": [],
   "source": []
  }
 ],
 "metadata": {
  "kernelspec": {
   "display_name": "CONDA_MD",
   "language": "python",
   "name": "conda_md"
  },
  "language_info": {
   "codemirror_mode": {
    "name": "ipython",
    "version": 3
   },
   "file_extension": ".py",
   "mimetype": "text/x-python",
   "name": "python",
   "nbconvert_exporter": "python",
   "pygments_lexer": "ipython3",
   "version": "3.6.12"
  }
 },
 "nbformat": 4,
 "nbformat_minor": 5
}
