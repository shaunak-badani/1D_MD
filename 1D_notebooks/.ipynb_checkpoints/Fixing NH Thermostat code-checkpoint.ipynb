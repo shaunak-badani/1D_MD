{
 "cells": [
  {
   "cell_type": "code",
   "execution_count": 1,
   "metadata": {},
   "outputs": [],
   "source": [
    "import numpy as np"
   ]
  },
  {
   "cell_type": "code",
   "execution_count": 10,
   "metadata": {},
   "outputs": [],
   "source": [
    "class Units:\n",
    "    kB = 1"
   ]
  },
  {
   "cell_type": "code",
   "execution_count": 33,
   "metadata": {},
   "outputs": [],
   "source": [
    "class NoseHoover():\n",
    "\n",
    "    def __init__(self, dt, M = 2, freq = 1, n_c = 1, w = [1]):\n",
    "        self.n_c = n_c\n",
    "        self.w = w\n",
    "        self.M = M\n",
    "        self.vxi = np.zeros(M)\n",
    "        self.xi = np.zeros(M)\n",
    "        self.dt = dt\n",
    "        # self.T = cfg.temperature\n",
    "        self.T = 1\n",
    "        self.num_particles = 10\n",
    "        Q_p1 = (self.num_particles * self.T) / (freq**2)\n",
    "        Q_pi = (self.T) / (freq**2)\n",
    "\n",
    "        # self.Q = np.full(M, Q_pi)\n",
    "        # self.Q[0] = Q_p1\n",
    "        self.Q = np.full(M, 0.1)\n",
    "\n",
    "\n",
    "\n",
    "    def step(self, m, v):\n",
    "#         KE = 0.5 * np.sum(m * v**2)\n",
    "        KE = 10\n",
    "        T = self.T\n",
    "        N_f = self.num_particles\n",
    "        M = self.M\n",
    "        SCALE = 1.0\n",
    "        w = self.w\n",
    "\n",
    "        suzuki_yoshida_order = len(w)\n",
    "        for i in range(self.n_c):\n",
    "            for w_j in w:\n",
    "                delta_ts = (w_j * self.dt) / self.n_c\n",
    "\n",
    "                G_M_1 = (self.Q[M - 2] * self.vxi[M - 2]**2 - Units.kB * T) / self.Q[M - 1]\n",
    "                print(G_M_1)\n",
    "                self.vxi[M - 1] = self.vxi[M - 1] + (delta_ts / 4) * G_M_1\n",
    "                print(self.vxi[M - 1])\n",
    "                # 4 part repeat\n",
    "                for i in range(self.M - 2, 0, -1):\n",
    "                    self.vxi[i] = self.vxi[i] * np.exp(-1 * delta_ts * self.vxi[i + 1] / 8)\n",
    "                    G_i = (self.Q[i - 1] * self.vxi[i-1]**2 - Units.kB * T) / self.Q[i]\n",
    "                    self.vxi[i] = self.vxi[i] + (delta_ts / 4) * G_i\n",
    "                    self.vxi[i] = self.vxi[i] * np.exp(-1 * delta_ts * self.vxi[i + 1] / 8)\n",
    "\n",
    "                self.vxi[0] = self.vxi[0] * np.exp(-1 * delta_ts * self.vxi[1] / 8)\n",
    "                G_1 = (2 * KE - N_f * Units.kB * T) / self.Q[0]\n",
    "                self.vxi[0] = self.vxi[0] + (delta_ts / 4) * G_1\n",
    "                self.vxi[0] = self.vxi[0] * np.exp(-1 * delta_ts * self.vxi[1] / 8)\n",
    "\n",
    "                SCALE = SCALE * (np.exp(-1 * delta_ts * self.vxi[0] / 2))\n",
    "                KE = KE * np.exp(-1 * delta_ts * self.vxi[0])\n",
    "\n",
    "                for i in range(0, M):\n",
    "                    self.xi[i] = self.xi[i] + (delta_ts / 2) * self.vxi[i]\n",
    "\n",
    "                self.vxi[0] = self.vxi[0] * np.exp(-1 * delta_ts * self.vxi[1] / 8)\n",
    "                G_1 = (2 * KE - N_f * Units.kB * T) / self.Q[0]\n",
    "                self.vxi[0] = self.vxi[0] + (delta_ts / 4) * G_1\n",
    "                self.vxi[0] = self.vxi[0] * np.exp(-1 * delta_ts * self.vxi[1] / 8)\n",
    "\n",
    "                # 4 part repeat, but in reverse direction\n",
    "                for i in range(1, M - 1):\n",
    "                    self.vxi[i] = self.vxi[i] * np.exp(-1 * delta_ts * self.vxi[i + 1] / 8)\n",
    "                    G_i = (self.Q[i-1] * self.vxi[i-1]**2 - Units.kB * T) / self.Q[i]\n",
    "                    self.vxi[i] = self.vxi[i] + (delta_ts / 4) * G_i\n",
    "                    self.vxi[i] = self.vxi[i] * np.exp(-1 * delta_ts * self.vxi[i + 1] / 8)\n",
    "                \n",
    "                G_M_1 = (self.Q[M-2] * self.vxi[M-2]**2 - Units.kB * T) / self.Q[M - 1]\n",
    "                self.vxi[M-1] = self.vxi[M - 1] + (delta_ts / 4) * G_M_1\n",
    "\n",
    "\n",
    "        \n",
    "        v_new = v * SCALE\n",
    "        return v_new"
   ]
  },
  {
   "cell_type": "code",
   "execution_count": 34,
   "metadata": {},
   "outputs": [],
   "source": [
    "nht = NoseHoover(0.001)"
   ]
  },
  {
   "cell_type": "code",
   "execution_count": 35,
   "metadata": {},
   "outputs": [
    {
     "name": "stdout",
     "output_type": "stream",
     "text": [
      "-0.0025\n"
     ]
    },
    {
     "data": {
      "text/plain": [
       "array([0.9999875, 0.9999875, 0.9999875, 0.9999875, 0.9999875, 0.9999875,\n",
       "       0.9999875, 0.9999875, 0.9999875, 0.9999875])"
      ]
     },
     "execution_count": 35,
     "metadata": {},
     "output_type": "execute_result"
    }
   ],
   "source": [
    "nht.step(1, np.full(10, 1))"
   ]
  },
  {
   "cell_type": "code",
   "execution_count": null,
   "metadata": {},
   "outputs": [],
   "source": []
  }
 ],
 "metadata": {
  "kernelspec": {
   "display_name": "MD",
   "language": "python",
   "name": "md"
  },
  "language_info": {
   "codemirror_mode": {
    "name": "ipython",
    "version": 3
   },
   "file_extension": ".py",
   "mimetype": "text/x-python",
   "name": "python",
   "nbconvert_exporter": "python",
   "pygments_lexer": "ipython3",
   "version": "3.6.12"
  }
 },
 "nbformat": 4,
 "nbformat_minor": 2
}
