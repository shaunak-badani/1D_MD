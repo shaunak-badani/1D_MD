{
 "cells": [
  {
   "cell_type": "code",
   "execution_count": 1,
   "metadata": {},
   "outputs": [],
   "source": [
    "import numpy as np"
   ]
  },
  {
   "cell_type": "code",
   "execution_count": 2,
   "metadata": {},
   "outputs": [],
   "source": [
    "kB = 1"
   ]
  },
  {
   "cell_type": "code",
   "execution_count": 3,
   "metadata": {},
   "outputs": [],
   "source": [
    "class NoseHoover():\n",
    "\n",
    "    def __init__(self, dt, M = 1):\n",
    "        self.n_c = 1\n",
    "        self.M = M\n",
    "        self.v_epsilon = np.zeros(M)\n",
    "        self.epsilon = np.zeros(M)\n",
    "        self.Q = np.full(M, 1)\n",
    "        self.dt = dt\n",
    "        self.T = 1\n",
    "        self.num_particles = 1\n",
    "\n",
    "\n",
    "    def step(self, m, v):\n",
    "        for i in range(self.n_c):\n",
    "            KE = 0.5 * np.sum(m * v**2)\n",
    "            T = self.T\n",
    "            N_f = self.num_particles\n",
    "            M = self.M\n",
    "            delta_ts = self.dt / self.n_c\n",
    "            SCALE = 1.0\n",
    "            \n",
    "            G_1 = (2 * KE - N_f * Units.kB * T) / self.Q[0]\n",
    "            self.v_epsilon[0] = self.v_epsilon[0] + (delta_ts / 4) * G_1\n",
    "\n",
    "            SCALE = SCALE * (np.exp(-1 * delta_ts * self.v_epsilon[0] / 2))\n",
    "            KE = KE * np.exp(-1 * delta_ts * self.v_epsilon[0])\n",
    "\n",
    "            for i in range(0, M):\n",
    "                self.epsilon[i] = self.epsilon[i] + (delta_ts / 2) * self.v_epsilon[i]\n",
    "\n",
    "            \n",
    "            G_1 = (2 * KE - N_f * kB * T) / self.Q[0]\n",
    "            self.v_epsilon[0] = self.v_epsilon[0] + (delta_ts / 4) * G_1\n",
    "        \n",
    "        v_new = v * SCALE\n",
    "        return v_new\n",
    "        "
   ]
  },
  {
   "cell_type": "code",
   "execution_count": 8,
   "metadata": {},
   "outputs": [],
   "source": [
    "def U(r):\n",
    "    return 2 * (r  - 2)**2\n",
    "\n",
    "def F(r):\n",
    "    return -4*(r - 2)"
   ]
  },
  {
   "cell_type": "code",
   "execution_count": 12,
   "metadata": {},
   "outputs": [],
   "source": [
    "m = np.ones((1))\n",
    "v = np.ones((1, 1))\n",
    "r = np.ones((1, 1)) + 1\n",
    "dt = 1e-3"
   ]
  },
  {
   "cell_type": "code",
   "execution_count": 15,
   "metadata": {},
   "outputs": [
    {
     "ename": "NameError",
     "evalue": "name 'Units' is not defined",
     "output_type": "error",
     "traceback": [
      "\u001b[0;31m---------------------------------------------------------------------------\u001b[0m",
      "\u001b[0;31mNameError\u001b[0m                                 Traceback (most recent call last)",
      "\u001b[0;32m<ipython-input-15-11966633eb25>\u001b[0m in \u001b[0;36m<module>\u001b[0;34m\u001b[0m\n\u001b[1;32m      1\u001b[0m \u001b[0mnht\u001b[0m \u001b[0;34m=\u001b[0m \u001b[0mNoseHoover\u001b[0m\u001b[0;34m(\u001b[0m\u001b[0mdt\u001b[0m\u001b[0;34m)\u001b[0m\u001b[0;34m\u001b[0m\u001b[0;34m\u001b[0m\u001b[0m\n\u001b[0;32m----> 2\u001b[0;31m \u001b[0mnht\u001b[0m\u001b[0;34m.\u001b[0m\u001b[0mstep\u001b[0m\u001b[0;34m(\u001b[0m\u001b[0mm\u001b[0m\u001b[0;34m,\u001b[0m \u001b[0mv\u001b[0m\u001b[0;34m)\u001b[0m\u001b[0;34m\u001b[0m\u001b[0;34m\u001b[0m\u001b[0m\n\u001b[0m",
      "\u001b[0;32m<ipython-input-3-632664f63942>\u001b[0m in \u001b[0;36mstep\u001b[0;34m(self, m, v)\u001b[0m\n\u001b[1;32m     21\u001b[0m             \u001b[0mSCALE\u001b[0m \u001b[0;34m=\u001b[0m \u001b[0;36m1.0\u001b[0m\u001b[0;34m\u001b[0m\u001b[0;34m\u001b[0m\u001b[0m\n\u001b[1;32m     22\u001b[0m \u001b[0;34m\u001b[0m\u001b[0m\n\u001b[0;32m---> 23\u001b[0;31m             \u001b[0mG_1\u001b[0m \u001b[0;34m=\u001b[0m \u001b[0;34m(\u001b[0m\u001b[0;36m2\u001b[0m \u001b[0;34m*\u001b[0m \u001b[0mKE\u001b[0m \u001b[0;34m-\u001b[0m \u001b[0mN_f\u001b[0m \u001b[0;34m*\u001b[0m \u001b[0mUnits\u001b[0m\u001b[0;34m.\u001b[0m\u001b[0mkB\u001b[0m \u001b[0;34m*\u001b[0m \u001b[0mT\u001b[0m\u001b[0;34m)\u001b[0m \u001b[0;34m/\u001b[0m \u001b[0mself\u001b[0m\u001b[0;34m.\u001b[0m\u001b[0mQ\u001b[0m\u001b[0;34m[\u001b[0m\u001b[0;36m0\u001b[0m\u001b[0;34m]\u001b[0m\u001b[0;34m\u001b[0m\u001b[0;34m\u001b[0m\u001b[0m\n\u001b[0m\u001b[1;32m     24\u001b[0m             \u001b[0mself\u001b[0m\u001b[0;34m.\u001b[0m\u001b[0mv_epsilon\u001b[0m\u001b[0;34m[\u001b[0m\u001b[0;36m0\u001b[0m\u001b[0;34m]\u001b[0m \u001b[0;34m=\u001b[0m \u001b[0mself\u001b[0m\u001b[0;34m.\u001b[0m\u001b[0mv_epsilon\u001b[0m\u001b[0;34m[\u001b[0m\u001b[0;36m0\u001b[0m\u001b[0;34m]\u001b[0m \u001b[0;34m+\u001b[0m \u001b[0;34m(\u001b[0m\u001b[0mdelta_ts\u001b[0m \u001b[0;34m/\u001b[0m \u001b[0;36m4\u001b[0m\u001b[0;34m)\u001b[0m \u001b[0;34m*\u001b[0m \u001b[0mG_1\u001b[0m\u001b[0;34m\u001b[0m\u001b[0;34m\u001b[0m\u001b[0m\n\u001b[1;32m     25\u001b[0m \u001b[0;34m\u001b[0m\u001b[0m\n",
      "\u001b[0;31mNameError\u001b[0m: name 'Units' is not defined"
     ]
    }
   ],
   "source": [
    "nht = NoseHoover(dt)\n",
    "nht.step(m, v)"
   ]
  },
  {
   "cell_type": "code",
   "execution_count": null,
   "metadata": {},
   "outputs": [],
   "source": []
  }
 ],
 "metadata": {
  "kernelspec": {
   "display_name": "MD",
   "language": "python",
   "name": "md"
  },
  "language_info": {
   "codemirror_mode": {
    "name": "ipython",
    "version": 3
   },
   "file_extension": ".py",
   "mimetype": "text/x-python",
   "name": "python",
   "nbconvert_exporter": "python",
   "pygments_lexer": "ipython3",
   "version": "3.6.12"
  }
 },
 "nbformat": 4,
 "nbformat_minor": 2
}
